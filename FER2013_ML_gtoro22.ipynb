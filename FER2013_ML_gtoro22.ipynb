{
  "nbformat": 4,
  "nbformat_minor": 0,
  "metadata": {
    "colab": {
      "provenance": [],
      "gpuType": "T4",
      "authorship_tag": "ABX9TyP/hr7uTub3MIo8r+X8b8if",
      "include_colab_link": true
    },
    "kernelspec": {
      "name": "python3",
      "display_name": "Python 3"
    },
    "language_info": {
      "name": "python"
    },
    "accelerator": "GPU"
  },
  "cells": [
    {
      "cell_type": "markdown",
      "metadata": {
        "id": "view-in-github",
        "colab_type": "text"
      },
      "source": [
        "<a href=\"https://colab.research.google.com/github/giorgitorro/FER_gtoro22/blob/main/FER2013_ML_gtoro22.ipynb\" target=\"_parent\"><img src=\"https://colab.research.google.com/assets/colab-badge.svg\" alt=\"Open In Colab\"/></a>"
      ]
    },
    {
      "cell_type": "code",
      "execution_count": 1,
      "metadata": {
        "colab": {
          "base_uri": "https://localhost:8080/"
        },
        "id": "g4qDjlwMOU70",
        "outputId": "f07b089d-a009-4af6-f8a9-438f4aee743b"
      },
      "outputs": [
        {
          "output_type": "stream",
          "name": "stdout",
          "text": [
            "Requirement already satisfied: torch in /usr/local/lib/python3.11/dist-packages (2.6.0+cu124)\n",
            "Requirement already satisfied: torchvision in /usr/local/lib/python3.11/dist-packages (0.21.0+cu124)\n",
            "Requirement already satisfied: torchaudio in /usr/local/lib/python3.11/dist-packages (2.6.0+cu124)\n",
            "Requirement already satisfied: filelock in /usr/local/lib/python3.11/dist-packages (from torch) (3.18.0)\n",
            "Requirement already satisfied: typing-extensions>=4.10.0 in /usr/local/lib/python3.11/dist-packages (from torch) (4.13.2)\n",
            "Requirement already satisfied: networkx in /usr/local/lib/python3.11/dist-packages (from torch) (3.5)\n",
            "Requirement already satisfied: jinja2 in /usr/local/lib/python3.11/dist-packages (from torch) (3.1.6)\n",
            "Requirement already satisfied: fsspec in /usr/local/lib/python3.11/dist-packages (from torch) (2025.3.2)\n",
            "Collecting nvidia-cuda-nvrtc-cu12==12.4.127 (from torch)\n",
            "  Downloading nvidia_cuda_nvrtc_cu12-12.4.127-py3-none-manylinux2014_x86_64.whl.metadata (1.5 kB)\n",
            "Collecting nvidia-cuda-runtime-cu12==12.4.127 (from torch)\n",
            "  Downloading nvidia_cuda_runtime_cu12-12.4.127-py3-none-manylinux2014_x86_64.whl.metadata (1.5 kB)\n",
            "Collecting nvidia-cuda-cupti-cu12==12.4.127 (from torch)\n",
            "  Downloading nvidia_cuda_cupti_cu12-12.4.127-py3-none-manylinux2014_x86_64.whl.metadata (1.6 kB)\n",
            "Collecting nvidia-cudnn-cu12==9.1.0.70 (from torch)\n",
            "  Downloading nvidia_cudnn_cu12-9.1.0.70-py3-none-manylinux2014_x86_64.whl.metadata (1.6 kB)\n",
            "Collecting nvidia-cublas-cu12==12.4.5.8 (from torch)\n",
            "  Downloading nvidia_cublas_cu12-12.4.5.8-py3-none-manylinux2014_x86_64.whl.metadata (1.5 kB)\n",
            "Collecting nvidia-cufft-cu12==11.2.1.3 (from torch)\n",
            "  Downloading nvidia_cufft_cu12-11.2.1.3-py3-none-manylinux2014_x86_64.whl.metadata (1.5 kB)\n",
            "Collecting nvidia-curand-cu12==10.3.5.147 (from torch)\n",
            "  Downloading nvidia_curand_cu12-10.3.5.147-py3-none-manylinux2014_x86_64.whl.metadata (1.5 kB)\n",
            "Collecting nvidia-cusolver-cu12==11.6.1.9 (from torch)\n",
            "  Downloading nvidia_cusolver_cu12-11.6.1.9-py3-none-manylinux2014_x86_64.whl.metadata (1.6 kB)\n",
            "Collecting nvidia-cusparse-cu12==12.3.1.170 (from torch)\n",
            "  Downloading nvidia_cusparse_cu12-12.3.1.170-py3-none-manylinux2014_x86_64.whl.metadata (1.6 kB)\n",
            "Requirement already satisfied: nvidia-cusparselt-cu12==0.6.2 in /usr/local/lib/python3.11/dist-packages (from torch) (0.6.2)\n",
            "Requirement already satisfied: nvidia-nccl-cu12==2.21.5 in /usr/local/lib/python3.11/dist-packages (from torch) (2.21.5)\n",
            "Requirement already satisfied: nvidia-nvtx-cu12==12.4.127 in /usr/local/lib/python3.11/dist-packages (from torch) (12.4.127)\n",
            "Collecting nvidia-nvjitlink-cu12==12.4.127 (from torch)\n",
            "  Downloading nvidia_nvjitlink_cu12-12.4.127-py3-none-manylinux2014_x86_64.whl.metadata (1.5 kB)\n",
            "Requirement already satisfied: triton==3.2.0 in /usr/local/lib/python3.11/dist-packages (from torch) (3.2.0)\n",
            "Requirement already satisfied: sympy==1.13.1 in /usr/local/lib/python3.11/dist-packages (from torch) (1.13.1)\n",
            "Requirement already satisfied: mpmath<1.4,>=1.1.0 in /usr/local/lib/python3.11/dist-packages (from sympy==1.13.1->torch) (1.3.0)\n",
            "Requirement already satisfied: numpy in /usr/local/lib/python3.11/dist-packages (from torchvision) (2.0.2)\n",
            "Requirement already satisfied: pillow!=8.3.*,>=5.3.0 in /usr/local/lib/python3.11/dist-packages (from torchvision) (11.2.1)\n",
            "Requirement already satisfied: MarkupSafe>=2.0 in /usr/local/lib/python3.11/dist-packages (from jinja2->torch) (3.0.2)\n",
            "Downloading nvidia_cublas_cu12-12.4.5.8-py3-none-manylinux2014_x86_64.whl (363.4 MB)\n",
            "\u001b[2K   \u001b[90m━━━━━━━━━━━━━━━━━━━━━━━━━━━━━━━━━━━━━━━━\u001b[0m \u001b[32m363.4/363.4 MB\u001b[0m \u001b[31m4.6 MB/s\u001b[0m eta \u001b[36m0:00:00\u001b[0m\n",
            "\u001b[?25hDownloading nvidia_cuda_cupti_cu12-12.4.127-py3-none-manylinux2014_x86_64.whl (13.8 MB)\n",
            "\u001b[2K   \u001b[90m━━━━━━━━━━━━━━━━━━━━━━━━━━━━━━━━━━━━━━━━\u001b[0m \u001b[32m13.8/13.8 MB\u001b[0m \u001b[31m123.7 MB/s\u001b[0m eta \u001b[36m0:00:00\u001b[0m\n",
            "\u001b[?25hDownloading nvidia_cuda_nvrtc_cu12-12.4.127-py3-none-manylinux2014_x86_64.whl (24.6 MB)\n",
            "\u001b[2K   \u001b[90m━━━━━━━━━━━━━━━━━━━━━━━━━━━━━━━━━━━━━━━━\u001b[0m \u001b[32m24.6/24.6 MB\u001b[0m \u001b[31m93.6 MB/s\u001b[0m eta \u001b[36m0:00:00\u001b[0m\n",
            "\u001b[?25hDownloading nvidia_cuda_runtime_cu12-12.4.127-py3-none-manylinux2014_x86_64.whl (883 kB)\n",
            "\u001b[2K   \u001b[90m━━━━━━━━━━━━━━━━━━━━━━━━━━━━━━━━━━━━━━━━\u001b[0m \u001b[32m883.7/883.7 kB\u001b[0m \u001b[31m60.9 MB/s\u001b[0m eta \u001b[36m0:00:00\u001b[0m\n",
            "\u001b[?25hDownloading nvidia_cudnn_cu12-9.1.0.70-py3-none-manylinux2014_x86_64.whl (664.8 MB)\n",
            "\u001b[2K   \u001b[90m━━━━━━━━━━━━━━━━━━━━━━━━━━━━━━━━━━━━━━━━\u001b[0m \u001b[32m664.8/664.8 MB\u001b[0m \u001b[31m2.6 MB/s\u001b[0m eta \u001b[36m0:00:00\u001b[0m\n",
            "\u001b[?25hDownloading nvidia_cufft_cu12-11.2.1.3-py3-none-manylinux2014_x86_64.whl (211.5 MB)\n",
            "\u001b[2K   \u001b[90m━━━━━━━━━━━━━━━━━━━━━━━━━━━━━━━━━━━━━━━━\u001b[0m \u001b[32m211.5/211.5 MB\u001b[0m \u001b[31m5.3 MB/s\u001b[0m eta \u001b[36m0:00:00\u001b[0m\n",
            "\u001b[?25hDownloading nvidia_curand_cu12-10.3.5.147-py3-none-manylinux2014_x86_64.whl (56.3 MB)\n",
            "\u001b[2K   \u001b[90m━━━━━━━━━━━━━━━━━━━━━━━━━━━━━━━━━━━━━━━━\u001b[0m \u001b[32m56.3/56.3 MB\u001b[0m \u001b[31m13.4 MB/s\u001b[0m eta \u001b[36m0:00:00\u001b[0m\n",
            "\u001b[?25hDownloading nvidia_cusolver_cu12-11.6.1.9-py3-none-manylinux2014_x86_64.whl (127.9 MB)\n",
            "\u001b[2K   \u001b[90m━━━━━━━━━━━━━━━━━━━━━━━━━━━━━━━━━━━━━━━━\u001b[0m \u001b[32m127.9/127.9 MB\u001b[0m \u001b[31m7.4 MB/s\u001b[0m eta \u001b[36m0:00:00\u001b[0m\n",
            "\u001b[?25hDownloading nvidia_cusparse_cu12-12.3.1.170-py3-none-manylinux2014_x86_64.whl (207.5 MB)\n",
            "\u001b[2K   \u001b[90m━━━━━━━━━━━━━━━━━━━━━━━━━━━━━━━━━━━━━━━━\u001b[0m \u001b[32m207.5/207.5 MB\u001b[0m \u001b[31m5.2 MB/s\u001b[0m eta \u001b[36m0:00:00\u001b[0m\n",
            "\u001b[?25hDownloading nvidia_nvjitlink_cu12-12.4.127-py3-none-manylinux2014_x86_64.whl (21.1 MB)\n",
            "\u001b[2K   \u001b[90m━━━━━━━━━━━━━━━━━━━━━━━━━━━━━━━━━━━━━━━━\u001b[0m \u001b[32m21.1/21.1 MB\u001b[0m \u001b[31m79.8 MB/s\u001b[0m eta \u001b[36m0:00:00\u001b[0m\n",
            "\u001b[?25hInstalling collected packages: nvidia-nvjitlink-cu12, nvidia-curand-cu12, nvidia-cufft-cu12, nvidia-cuda-runtime-cu12, nvidia-cuda-nvrtc-cu12, nvidia-cuda-cupti-cu12, nvidia-cublas-cu12, nvidia-cusparse-cu12, nvidia-cudnn-cu12, nvidia-cusolver-cu12\n",
            "  Attempting uninstall: nvidia-nvjitlink-cu12\n",
            "    Found existing installation: nvidia-nvjitlink-cu12 12.5.82\n",
            "    Uninstalling nvidia-nvjitlink-cu12-12.5.82:\n",
            "      Successfully uninstalled nvidia-nvjitlink-cu12-12.5.82\n",
            "  Attempting uninstall: nvidia-curand-cu12\n",
            "    Found existing installation: nvidia-curand-cu12 10.3.6.82\n",
            "    Uninstalling nvidia-curand-cu12-10.3.6.82:\n",
            "      Successfully uninstalled nvidia-curand-cu12-10.3.6.82\n",
            "  Attempting uninstall: nvidia-cufft-cu12\n",
            "    Found existing installation: nvidia-cufft-cu12 11.2.3.61\n",
            "    Uninstalling nvidia-cufft-cu12-11.2.3.61:\n",
            "      Successfully uninstalled nvidia-cufft-cu12-11.2.3.61\n",
            "  Attempting uninstall: nvidia-cuda-runtime-cu12\n",
            "    Found existing installation: nvidia-cuda-runtime-cu12 12.5.82\n",
            "    Uninstalling nvidia-cuda-runtime-cu12-12.5.82:\n",
            "      Successfully uninstalled nvidia-cuda-runtime-cu12-12.5.82\n",
            "  Attempting uninstall: nvidia-cuda-nvrtc-cu12\n",
            "    Found existing installation: nvidia-cuda-nvrtc-cu12 12.5.82\n",
            "    Uninstalling nvidia-cuda-nvrtc-cu12-12.5.82:\n",
            "      Successfully uninstalled nvidia-cuda-nvrtc-cu12-12.5.82\n",
            "  Attempting uninstall: nvidia-cuda-cupti-cu12\n",
            "    Found existing installation: nvidia-cuda-cupti-cu12 12.5.82\n",
            "    Uninstalling nvidia-cuda-cupti-cu12-12.5.82:\n",
            "      Successfully uninstalled nvidia-cuda-cupti-cu12-12.5.82\n",
            "  Attempting uninstall: nvidia-cublas-cu12\n",
            "    Found existing installation: nvidia-cublas-cu12 12.5.3.2\n",
            "    Uninstalling nvidia-cublas-cu12-12.5.3.2:\n",
            "      Successfully uninstalled nvidia-cublas-cu12-12.5.3.2\n",
            "  Attempting uninstall: nvidia-cusparse-cu12\n",
            "    Found existing installation: nvidia-cusparse-cu12 12.5.1.3\n",
            "    Uninstalling nvidia-cusparse-cu12-12.5.1.3:\n",
            "      Successfully uninstalled nvidia-cusparse-cu12-12.5.1.3\n",
            "  Attempting uninstall: nvidia-cudnn-cu12\n",
            "    Found existing installation: nvidia-cudnn-cu12 9.3.0.75\n",
            "    Uninstalling nvidia-cudnn-cu12-9.3.0.75:\n",
            "      Successfully uninstalled nvidia-cudnn-cu12-9.3.0.75\n",
            "  Attempting uninstall: nvidia-cusolver-cu12\n",
            "    Found existing installation: nvidia-cusolver-cu12 11.6.3.83\n",
            "    Uninstalling nvidia-cusolver-cu12-11.6.3.83:\n",
            "      Successfully uninstalled nvidia-cusolver-cu12-11.6.3.83\n",
            "Successfully installed nvidia-cublas-cu12-12.4.5.8 nvidia-cuda-cupti-cu12-12.4.127 nvidia-cuda-nvrtc-cu12-12.4.127 nvidia-cuda-runtime-cu12-12.4.127 nvidia-cudnn-cu12-9.1.0.70 nvidia-cufft-cu12-11.2.1.3 nvidia-curand-cu12-10.3.5.147 nvidia-cusolver-cu12-11.6.1.9 nvidia-cusparse-cu12-12.3.1.170 nvidia-nvjitlink-cu12-12.4.127\n",
            "Requirement already satisfied: wandb in /usr/local/lib/python3.11/dist-packages (0.19.11)\n",
            "Requirement already satisfied: click!=8.0.0,>=7.1 in /usr/local/lib/python3.11/dist-packages (from wandb) (8.2.1)\n",
            "Requirement already satisfied: docker-pycreds>=0.4.0 in /usr/local/lib/python3.11/dist-packages (from wandb) (0.4.0)\n",
            "Requirement already satisfied: gitpython!=3.1.29,>=1.0.0 in /usr/local/lib/python3.11/dist-packages (from wandb) (3.1.44)\n",
            "Requirement already satisfied: platformdirs in /usr/local/lib/python3.11/dist-packages (from wandb) (4.3.8)\n",
            "Requirement already satisfied: protobuf!=4.21.0,!=5.28.0,<7,>=3.19.0 in /usr/local/lib/python3.11/dist-packages (from wandb) (5.29.5)\n",
            "Requirement already satisfied: psutil>=5.0.0 in /usr/local/lib/python3.11/dist-packages (from wandb) (5.9.5)\n",
            "Requirement already satisfied: pydantic<3 in /usr/local/lib/python3.11/dist-packages (from wandb) (2.11.5)\n",
            "Requirement already satisfied: pyyaml in /usr/local/lib/python3.11/dist-packages (from wandb) (6.0.2)\n",
            "Requirement already satisfied: requests<3,>=2.0.0 in /usr/local/lib/python3.11/dist-packages (from wandb) (2.32.3)\n",
            "Requirement already satisfied: sentry-sdk>=2.0.0 in /usr/local/lib/python3.11/dist-packages (from wandb) (2.29.1)\n",
            "Requirement already satisfied: setproctitle in /usr/local/lib/python3.11/dist-packages (from wandb) (1.3.6)\n",
            "Requirement already satisfied: setuptools in /usr/local/lib/python3.11/dist-packages (from wandb) (75.2.0)\n",
            "Requirement already satisfied: typing-extensions<5,>=4.4 in /usr/local/lib/python3.11/dist-packages (from wandb) (4.13.2)\n",
            "Requirement already satisfied: six>=1.4.0 in /usr/local/lib/python3.11/dist-packages (from docker-pycreds>=0.4.0->wandb) (1.17.0)\n",
            "Requirement already satisfied: gitdb<5,>=4.0.1 in /usr/local/lib/python3.11/dist-packages (from gitpython!=3.1.29,>=1.0.0->wandb) (4.0.12)\n",
            "Requirement already satisfied: annotated-types>=0.6.0 in /usr/local/lib/python3.11/dist-packages (from pydantic<3->wandb) (0.7.0)\n",
            "Requirement already satisfied: pydantic-core==2.33.2 in /usr/local/lib/python3.11/dist-packages (from pydantic<3->wandb) (2.33.2)\n",
            "Requirement already satisfied: typing-inspection>=0.4.0 in /usr/local/lib/python3.11/dist-packages (from pydantic<3->wandb) (0.4.1)\n",
            "Requirement already satisfied: charset-normalizer<4,>=2 in /usr/local/lib/python3.11/dist-packages (from requests<3,>=2.0.0->wandb) (3.4.2)\n",
            "Requirement already satisfied: idna<4,>=2.5 in /usr/local/lib/python3.11/dist-packages (from requests<3,>=2.0.0->wandb) (3.10)\n",
            "Requirement already satisfied: urllib3<3,>=1.21.1 in /usr/local/lib/python3.11/dist-packages (from requests<3,>=2.0.0->wandb) (2.4.0)\n",
            "Requirement already satisfied: certifi>=2017.4.17 in /usr/local/lib/python3.11/dist-packages (from requests<3,>=2.0.0->wandb) (2025.4.26)\n",
            "Requirement already satisfied: smmap<6,>=3.0.1 in /usr/local/lib/python3.11/dist-packages (from gitdb<5,>=4.0.1->gitpython!=3.1.29,>=1.0.0->wandb) (5.0.2)\n",
            "Requirement already satisfied: kaggle in /usr/local/lib/python3.11/dist-packages (1.7.4.5)\n",
            "Requirement already satisfied: bleach in /usr/local/lib/python3.11/dist-packages (from kaggle) (6.2.0)\n",
            "Requirement already satisfied: certifi>=14.05.14 in /usr/local/lib/python3.11/dist-packages (from kaggle) (2025.4.26)\n",
            "Requirement already satisfied: charset-normalizer in /usr/local/lib/python3.11/dist-packages (from kaggle) (3.4.2)\n",
            "Requirement already satisfied: idna in /usr/local/lib/python3.11/dist-packages (from kaggle) (3.10)\n",
            "Requirement already satisfied: protobuf in /usr/local/lib/python3.11/dist-packages (from kaggle) (5.29.5)\n",
            "Requirement already satisfied: python-dateutil>=2.5.3 in /usr/local/lib/python3.11/dist-packages (from kaggle) (2.9.0.post0)\n",
            "Requirement already satisfied: python-slugify in /usr/local/lib/python3.11/dist-packages (from kaggle) (8.0.4)\n",
            "Requirement already satisfied: requests in /usr/local/lib/python3.11/dist-packages (from kaggle) (2.32.3)\n",
            "Requirement already satisfied: setuptools>=21.0.0 in /usr/local/lib/python3.11/dist-packages (from kaggle) (75.2.0)\n",
            "Requirement already satisfied: six>=1.10 in /usr/local/lib/python3.11/dist-packages (from kaggle) (1.17.0)\n",
            "Requirement already satisfied: text-unidecode in /usr/local/lib/python3.11/dist-packages (from kaggle) (1.3)\n",
            "Requirement already satisfied: tqdm in /usr/local/lib/python3.11/dist-packages (from kaggle) (4.67.1)\n",
            "Requirement already satisfied: urllib3>=1.15.1 in /usr/local/lib/python3.11/dist-packages (from kaggle) (2.4.0)\n",
            "Requirement already satisfied: webencodings in /usr/local/lib/python3.11/dist-packages (from kaggle) (0.5.1)\n"
          ]
        }
      ],
      "source": [
        "!pip install torch torchvision torchaudio\n",
        "!pip install wandb\n",
        "!pip install kaggle"
      ]
    },
    {
      "cell_type": "code",
      "source": [
        "from google.colab import files\n",
        "files.upload()"
      ],
      "metadata": {
        "colab": {
          "base_uri": "https://localhost:8080/",
          "height": 86
        },
        "id": "vy5_gegNOw4H",
        "outputId": "5b806c19-ef18-43d2-f7c7-a7ef8e1dba52"
      },
      "execution_count": 2,
      "outputs": [
        {
          "output_type": "display_data",
          "data": {
            "text/plain": [
              "<IPython.core.display.HTML object>"
            ],
            "text/html": [
              "\n",
              "     <input type=\"file\" id=\"files-6261e41e-cc13-443b-bed7-3790f7d016c7\" name=\"files[]\" multiple disabled\n",
              "        style=\"border:none\" />\n",
              "     <output id=\"result-6261e41e-cc13-443b-bed7-3790f7d016c7\">\n",
              "      Upload widget is only available when the cell has been executed in the\n",
              "      current browser session. Please rerun this cell to enable.\n",
              "      </output>\n",
              "      <script>// Copyright 2017 Google LLC\n",
              "//\n",
              "// Licensed under the Apache License, Version 2.0 (the \"License\");\n",
              "// you may not use this file except in compliance with the License.\n",
              "// You may obtain a copy of the License at\n",
              "//\n",
              "//      http://www.apache.org/licenses/LICENSE-2.0\n",
              "//\n",
              "// Unless required by applicable law or agreed to in writing, software\n",
              "// distributed under the License is distributed on an \"AS IS\" BASIS,\n",
              "// WITHOUT WARRANTIES OR CONDITIONS OF ANY KIND, either express or implied.\n",
              "// See the License for the specific language governing permissions and\n",
              "// limitations under the License.\n",
              "\n",
              "/**\n",
              " * @fileoverview Helpers for google.colab Python module.\n",
              " */\n",
              "(function(scope) {\n",
              "function span(text, styleAttributes = {}) {\n",
              "  const element = document.createElement('span');\n",
              "  element.textContent = text;\n",
              "  for (const key of Object.keys(styleAttributes)) {\n",
              "    element.style[key] = styleAttributes[key];\n",
              "  }\n",
              "  return element;\n",
              "}\n",
              "\n",
              "// Max number of bytes which will be uploaded at a time.\n",
              "const MAX_PAYLOAD_SIZE = 100 * 1024;\n",
              "\n",
              "function _uploadFiles(inputId, outputId) {\n",
              "  const steps = uploadFilesStep(inputId, outputId);\n",
              "  const outputElement = document.getElementById(outputId);\n",
              "  // Cache steps on the outputElement to make it available for the next call\n",
              "  // to uploadFilesContinue from Python.\n",
              "  outputElement.steps = steps;\n",
              "\n",
              "  return _uploadFilesContinue(outputId);\n",
              "}\n",
              "\n",
              "// This is roughly an async generator (not supported in the browser yet),\n",
              "// where there are multiple asynchronous steps and the Python side is going\n",
              "// to poll for completion of each step.\n",
              "// This uses a Promise to block the python side on completion of each step,\n",
              "// then passes the result of the previous step as the input to the next step.\n",
              "function _uploadFilesContinue(outputId) {\n",
              "  const outputElement = document.getElementById(outputId);\n",
              "  const steps = outputElement.steps;\n",
              "\n",
              "  const next = steps.next(outputElement.lastPromiseValue);\n",
              "  return Promise.resolve(next.value.promise).then((value) => {\n",
              "    // Cache the last promise value to make it available to the next\n",
              "    // step of the generator.\n",
              "    outputElement.lastPromiseValue = value;\n",
              "    return next.value.response;\n",
              "  });\n",
              "}\n",
              "\n",
              "/**\n",
              " * Generator function which is called between each async step of the upload\n",
              " * process.\n",
              " * @param {string} inputId Element ID of the input file picker element.\n",
              " * @param {string} outputId Element ID of the output display.\n",
              " * @return {!Iterable<!Object>} Iterable of next steps.\n",
              " */\n",
              "function* uploadFilesStep(inputId, outputId) {\n",
              "  const inputElement = document.getElementById(inputId);\n",
              "  inputElement.disabled = false;\n",
              "\n",
              "  const outputElement = document.getElementById(outputId);\n",
              "  outputElement.innerHTML = '';\n",
              "\n",
              "  const pickedPromise = new Promise((resolve) => {\n",
              "    inputElement.addEventListener('change', (e) => {\n",
              "      resolve(e.target.files);\n",
              "    });\n",
              "  });\n",
              "\n",
              "  const cancel = document.createElement('button');\n",
              "  inputElement.parentElement.appendChild(cancel);\n",
              "  cancel.textContent = 'Cancel upload';\n",
              "  const cancelPromise = new Promise((resolve) => {\n",
              "    cancel.onclick = () => {\n",
              "      resolve(null);\n",
              "    };\n",
              "  });\n",
              "\n",
              "  // Wait for the user to pick the files.\n",
              "  const files = yield {\n",
              "    promise: Promise.race([pickedPromise, cancelPromise]),\n",
              "    response: {\n",
              "      action: 'starting',\n",
              "    }\n",
              "  };\n",
              "\n",
              "  cancel.remove();\n",
              "\n",
              "  // Disable the input element since further picks are not allowed.\n",
              "  inputElement.disabled = true;\n",
              "\n",
              "  if (!files) {\n",
              "    return {\n",
              "      response: {\n",
              "        action: 'complete',\n",
              "      }\n",
              "    };\n",
              "  }\n",
              "\n",
              "  for (const file of files) {\n",
              "    const li = document.createElement('li');\n",
              "    li.append(span(file.name, {fontWeight: 'bold'}));\n",
              "    li.append(span(\n",
              "        `(${file.type || 'n/a'}) - ${file.size} bytes, ` +\n",
              "        `last modified: ${\n",
              "            file.lastModifiedDate ? file.lastModifiedDate.toLocaleDateString() :\n",
              "                                    'n/a'} - `));\n",
              "    const percent = span('0% done');\n",
              "    li.appendChild(percent);\n",
              "\n",
              "    outputElement.appendChild(li);\n",
              "\n",
              "    const fileDataPromise = new Promise((resolve) => {\n",
              "      const reader = new FileReader();\n",
              "      reader.onload = (e) => {\n",
              "        resolve(e.target.result);\n",
              "      };\n",
              "      reader.readAsArrayBuffer(file);\n",
              "    });\n",
              "    // Wait for the data to be ready.\n",
              "    let fileData = yield {\n",
              "      promise: fileDataPromise,\n",
              "      response: {\n",
              "        action: 'continue',\n",
              "      }\n",
              "    };\n",
              "\n",
              "    // Use a chunked sending to avoid message size limits. See b/62115660.\n",
              "    let position = 0;\n",
              "    do {\n",
              "      const length = Math.min(fileData.byteLength - position, MAX_PAYLOAD_SIZE);\n",
              "      const chunk = new Uint8Array(fileData, position, length);\n",
              "      position += length;\n",
              "\n",
              "      const base64 = btoa(String.fromCharCode.apply(null, chunk));\n",
              "      yield {\n",
              "        response: {\n",
              "          action: 'append',\n",
              "          file: file.name,\n",
              "          data: base64,\n",
              "        },\n",
              "      };\n",
              "\n",
              "      let percentDone = fileData.byteLength === 0 ?\n",
              "          100 :\n",
              "          Math.round((position / fileData.byteLength) * 100);\n",
              "      percent.textContent = `${percentDone}% done`;\n",
              "\n",
              "    } while (position < fileData.byteLength);\n",
              "  }\n",
              "\n",
              "  // All done.\n",
              "  yield {\n",
              "    response: {\n",
              "      action: 'complete',\n",
              "    }\n",
              "  };\n",
              "}\n",
              "\n",
              "scope.google = scope.google || {};\n",
              "scope.google.colab = scope.google.colab || {};\n",
              "scope.google.colab._files = {\n",
              "  _uploadFiles,\n",
              "  _uploadFilesContinue,\n",
              "};\n",
              "})(self);\n",
              "</script> "
            ]
          },
          "metadata": {}
        },
        {
          "output_type": "stream",
          "name": "stdout",
          "text": [
            "Saving kaggle.json to kaggle.json\n"
          ]
        },
        {
          "output_type": "execute_result",
          "data": {
            "text/plain": [
              "{'kaggle.json': b'{\"username\":\"giorgitoronjadze\",\"key\":\"82572ceeacdd135dce03ab6b1a5379a1\"}'}"
            ]
          },
          "metadata": {},
          "execution_count": 2
        }
      ]
    },
    {
      "cell_type": "code",
      "source": [
        "!mkdir -p ~/.kaggle\n",
        "!cp kaggle.json ~/.kaggle/\n",
        "!chmod 600 ~/.kaggle/kaggle.json"
      ],
      "metadata": {
        "id": "EZ-SgVrLOxhf"
      },
      "execution_count": 3,
      "outputs": []
    },
    {
      "cell_type": "code",
      "source": [
        "!pip install opendatasets"
      ],
      "metadata": {
        "colab": {
          "base_uri": "https://localhost:8080/"
        },
        "id": "R6MCEVB3PSup",
        "outputId": "2ddf0be4-04c2-45b2-9769-88e7ebd5a3e0"
      },
      "execution_count": 4,
      "outputs": [
        {
          "output_type": "stream",
          "name": "stdout",
          "text": [
            "Collecting opendatasets\n",
            "  Downloading opendatasets-0.1.22-py3-none-any.whl.metadata (9.2 kB)\n",
            "Requirement already satisfied: tqdm in /usr/local/lib/python3.11/dist-packages (from opendatasets) (4.67.1)\n",
            "Requirement already satisfied: kaggle in /usr/local/lib/python3.11/dist-packages (from opendatasets) (1.7.4.5)\n",
            "Requirement already satisfied: click in /usr/local/lib/python3.11/dist-packages (from opendatasets) (8.2.1)\n",
            "Requirement already satisfied: bleach in /usr/local/lib/python3.11/dist-packages (from kaggle->opendatasets) (6.2.0)\n",
            "Requirement already satisfied: certifi>=14.05.14 in /usr/local/lib/python3.11/dist-packages (from kaggle->opendatasets) (2025.4.26)\n",
            "Requirement already satisfied: charset-normalizer in /usr/local/lib/python3.11/dist-packages (from kaggle->opendatasets) (3.4.2)\n",
            "Requirement already satisfied: idna in /usr/local/lib/python3.11/dist-packages (from kaggle->opendatasets) (3.10)\n",
            "Requirement already satisfied: protobuf in /usr/local/lib/python3.11/dist-packages (from kaggle->opendatasets) (5.29.5)\n",
            "Requirement already satisfied: python-dateutil>=2.5.3 in /usr/local/lib/python3.11/dist-packages (from kaggle->opendatasets) (2.9.0.post0)\n",
            "Requirement already satisfied: python-slugify in /usr/local/lib/python3.11/dist-packages (from kaggle->opendatasets) (8.0.4)\n",
            "Requirement already satisfied: requests in /usr/local/lib/python3.11/dist-packages (from kaggle->opendatasets) (2.32.3)\n",
            "Requirement already satisfied: setuptools>=21.0.0 in /usr/local/lib/python3.11/dist-packages (from kaggle->opendatasets) (75.2.0)\n",
            "Requirement already satisfied: six>=1.10 in /usr/local/lib/python3.11/dist-packages (from kaggle->opendatasets) (1.17.0)\n",
            "Requirement already satisfied: text-unidecode in /usr/local/lib/python3.11/dist-packages (from kaggle->opendatasets) (1.3)\n",
            "Requirement already satisfied: urllib3>=1.15.1 in /usr/local/lib/python3.11/dist-packages (from kaggle->opendatasets) (2.4.0)\n",
            "Requirement already satisfied: webencodings in /usr/local/lib/python3.11/dist-packages (from kaggle->opendatasets) (0.5.1)\n",
            "Downloading opendatasets-0.1.22-py3-none-any.whl (15 kB)\n",
            "Installing collected packages: opendatasets\n",
            "Successfully installed opendatasets-0.1.22\n"
          ]
        }
      ]
    },
    {
      "cell_type": "code",
      "source": [
        "import opendatasets as od"
      ],
      "metadata": {
        "id": "1JjV-PlWPXCs"
      },
      "execution_count": 5,
      "outputs": []
    },
    {
      "cell_type": "code",
      "source": [
        "od.download(\"https://www.kaggle.com/competitions/challenges-in-representation-learning-facial-expression-recognition-challenge/overview\")"
      ],
      "metadata": {
        "colab": {
          "base_uri": "https://localhost:8080/"
        },
        "id": "e4UVcG9qPY-x",
        "outputId": "eb814c3b-fddb-418f-cf0e-51000110f579"
      },
      "execution_count": 6,
      "outputs": [
        {
          "output_type": "stream",
          "name": "stdout",
          "text": [
            "Downloading challenges-in-representation-learning-facial-expression-recognition-challenge.zip to ./challenges-in-representation-learning-facial-expression-recognition-challenge\n"
          ]
        },
        {
          "output_type": "stream",
          "name": "stderr",
          "text": [
            "100%|██████████| 285M/285M [00:00<00:00, 407MB/s]"
          ]
        },
        {
          "output_type": "stream",
          "name": "stdout",
          "text": [
            "\n",
            "Extracting archive ./challenges-in-representation-learning-facial-expression-recognition-challenge/challenges-in-representation-learning-facial-expression-recognition-challenge.zip to ./challenges-in-representation-learning-facial-expression-recognition-challenge\n"
          ]
        },
        {
          "output_type": "stream",
          "name": "stderr",
          "text": [
            "\n"
          ]
        }
      ]
    },
    {
      "cell_type": "code",
      "source": [
        "import wandb\n",
        "wandb.login()"
      ],
      "metadata": {
        "colab": {
          "base_uri": "https://localhost:8080/",
          "height": 207
        },
        "id": "4n-yPrARP-gC",
        "outputId": "6eae1963-49f2-42a6-cc9d-db2c00bb696f"
      },
      "execution_count": 7,
      "outputs": [
        {
          "output_type": "display_data",
          "data": {
            "text/plain": [
              "<IPython.core.display.Javascript object>"
            ],
            "application/javascript": [
              "\n",
              "        window._wandbApiKey = new Promise((resolve, reject) => {\n",
              "            function loadScript(url) {\n",
              "            return new Promise(function(resolve, reject) {\n",
              "                let newScript = document.createElement(\"script\");\n",
              "                newScript.onerror = reject;\n",
              "                newScript.onload = resolve;\n",
              "                document.body.appendChild(newScript);\n",
              "                newScript.src = url;\n",
              "            });\n",
              "            }\n",
              "            loadScript(\"https://cdn.jsdelivr.net/npm/postmate/build/postmate.min.js\").then(() => {\n",
              "            const iframe = document.createElement('iframe')\n",
              "            iframe.style.cssText = \"width:0;height:0;border:none\"\n",
              "            document.body.appendChild(iframe)\n",
              "            const handshake = new Postmate({\n",
              "                container: iframe,\n",
              "                url: 'https://wandb.ai/authorize'\n",
              "            });\n",
              "            const timeout = setTimeout(() => reject(\"Couldn't auto authenticate\"), 5000)\n",
              "            handshake.then(function(child) {\n",
              "                child.on('authorize', data => {\n",
              "                    clearTimeout(timeout)\n",
              "                    resolve(data)\n",
              "                });\n",
              "            });\n",
              "            })\n",
              "        });\n",
              "    "
            ]
          },
          "metadata": {}
        },
        {
          "output_type": "stream",
          "name": "stderr",
          "text": [
            "\u001b[34m\u001b[1mwandb\u001b[0m: Logging into wandb.ai. (Learn how to deploy a W&B server locally: https://wandb.me/wandb-server)\n",
            "\u001b[34m\u001b[1mwandb\u001b[0m: You can find your API key in your browser here: https://wandb.ai/authorize\n",
            "wandb: Paste an API key from your profile and hit enter:"
          ]
        },
        {
          "name": "stdout",
          "output_type": "stream",
          "text": [
            " ··········\n"
          ]
        },
        {
          "output_type": "stream",
          "name": "stderr",
          "text": [
            "\u001b[34m\u001b[1mwandb\u001b[0m: \u001b[33mWARNING\u001b[0m If you're specifying your api key in code, ensure this code is not shared publicly.\n",
            "\u001b[34m\u001b[1mwandb\u001b[0m: \u001b[33mWARNING\u001b[0m Consider setting the WANDB_API_KEY environment variable, or running `wandb login` from the command line.\n",
            "\u001b[34m\u001b[1mwandb\u001b[0m: No netrc file found, creating one.\n",
            "\u001b[34m\u001b[1mwandb\u001b[0m: Appending key for api.wandb.ai to your netrc file: /root/.netrc\n",
            "\u001b[34m\u001b[1mwandb\u001b[0m: Currently logged in as: \u001b[33mgtoro22\u001b[0m (\u001b[33mgtoro22-free-university-of-tbilisi-\u001b[0m) to \u001b[32mhttps://api.wandb.ai\u001b[0m. Use \u001b[1m`wandb login --relogin`\u001b[0m to force relogin\n"
          ]
        },
        {
          "output_type": "execute_result",
          "data": {
            "text/plain": [
              "True"
            ]
          },
          "metadata": {},
          "execution_count": 7
        }
      ]
    },
    {
      "cell_type": "code",
      "source": [
        "!git init\n",
        "!git config --global user.email \"gtoro22@freeuni.edu.ge\"\n",
        "!git config --global user.name \"giorgitorro\"\n",
        "!git remote add origin https://github.com/giorgitorro/FER_gtoro22.git"
      ],
      "metadata": {
        "colab": {
          "base_uri": "https://localhost:8080/"
        },
        "id": "aasOj1itRE4B",
        "outputId": "9610afa2-2ad6-4734-95f3-44367f4d5a16"
      },
      "execution_count": 8,
      "outputs": [
        {
          "output_type": "stream",
          "name": "stdout",
          "text": [
            "\u001b[33mhint: Using 'master' as the name for the initial branch. This default branch name\u001b[m\n",
            "\u001b[33mhint: is subject to change. To configure the initial branch name to use in all\u001b[m\n",
            "\u001b[33mhint: of your new repositories, which will suppress this warning, call:\u001b[m\n",
            "\u001b[33mhint: \u001b[m\n",
            "\u001b[33mhint: \tgit config --global init.defaultBranch <name>\u001b[m\n",
            "\u001b[33mhint: \u001b[m\n",
            "\u001b[33mhint: Names commonly chosen instead of 'master' are 'main', 'trunk' and\u001b[m\n",
            "\u001b[33mhint: 'development'. The just-created branch can be renamed via this command:\u001b[m\n",
            "\u001b[33mhint: \u001b[m\n",
            "\u001b[33mhint: \tgit branch -m <name>\u001b[m\n",
            "Initialized empty Git repository in /content/.git/\n"
          ]
        }
      ]
    },
    {
      "cell_type": "code",
      "source": [
        "import pandas as pd\n",
        "\n",
        "df = pd.read_csv(\"/content/challenges-in-representation-learning-facial-expression-recognition-challenge/train.csv\")\n",
        "print(df.head())\n",
        "print(df.columns)"
      ],
      "metadata": {
        "colab": {
          "base_uri": "https://localhost:8080/"
        },
        "id": "cxcow5vuRikl",
        "outputId": "e9dabe28-7d7a-455e-bd6a-c60e5f992a5f"
      },
      "execution_count": 9,
      "outputs": [
        {
          "output_type": "stream",
          "name": "stdout",
          "text": [
            "   emotion                                             pixels\n",
            "0        0  70 80 82 72 58 58 60 63 54 58 60 48 89 115 121...\n",
            "1        0  151 150 147 155 148 133 111 140 170 174 182 15...\n",
            "2        2  231 212 156 164 174 138 161 173 182 200 106 38...\n",
            "3        4  24 32 36 30 32 23 19 20 30 41 21 22 32 34 21 1...\n",
            "4        6  4 0 0 0 0 0 0 0 0 0 0 0 3 15 23 28 48 50 58 84...\n",
            "Index(['emotion', 'pixels'], dtype='object')\n"
          ]
        }
      ]
    },
    {
      "cell_type": "code",
      "source": [
        "import pandas as pd\n",
        "import numpy as np\n",
        "import torch\n",
        "import torch.nn as nn\n",
        "import torch.nn.functional as F\n",
        "import torchvision.transforms as transforms\n",
        "from torch.utils.data import Dataset, DataLoader\n",
        "from sklearn.model_selection import train_test_split\n",
        "from PIL import Image\n",
        "import wandb\n",
        "from sklearn.metrics import confusion_matrix\n",
        "import seaborn as sns\n",
        "import matplotlib.pyplot as plt\n",
        "from torch.optim.lr_scheduler import ReduceLROnPlateau"
      ],
      "metadata": {
        "id": "eDs0i6I6YE_e"
      },
      "execution_count": 10,
      "outputs": []
    },
    {
      "cell_type": "code",
      "source": [
        "emotion_labels = {\n",
        "    0: \"Angry\", 1: \"Disgust\", 2: \"Fear\", 3: \"Happy\",\n",
        "    4: \"Sad\", 5: \"Surprise\", 6: \"Neutral\"\n",
        "}\n",
        "\n",
        "plt.figure(figsize=(8, 5))\n",
        "sns.countplot(x='emotion', data=df)\n",
        "plt.title(\"Label Distribution\")\n",
        "plt.xlabel(\"Emotion\")\n",
        "plt.ylabel(\"Number of Samples\")\n",
        "plt.xticks(ticks=range(7), labels=[emotion_labels[i] for i in range(7)])\n",
        "plt.show()\n"
      ],
      "metadata": {
        "colab": {
          "base_uri": "https://localhost:8080/",
          "height": 487
        },
        "id": "0dzezhCQH4sj",
        "outputId": "8ea313d5-6dd5-4979-d874-3108db637129"
      },
      "execution_count": 11,
      "outputs": [
        {
          "output_type": "display_data",
          "data": {
            "text/plain": [
              "<Figure size 800x500 with 1 Axes>"
            ],
            "image/png": "[encoded data removed]"
          },
          "metadata": {}
        }
      ]
    },
    {
      "cell_type": "code",
      "source": [
        "def show_images_per_class(df, n=5):\n",
        "    fig, axes = plt.subplots(7, n, figsize=(n*2, 14))\n",
        "    for label in range(7):\n",
        "        subset = df[df['emotion'] == label].sample(n)\n",
        "        for i, row in enumerate(subset.itertuples()):\n",
        "            pixels = np.fromstring(row.pixels, sep=' ', dtype=np.uint8).reshape(48, 48)\n",
        "            axes[label, i].imshow(pixels, cmap='gray')\n",
        "            axes[label, i].axis('off')\n",
        "            if i == 0:\n",
        "                axes[label, i].set_title(emotion_labels[label])\n",
        "    plt.tight_layout()\n",
        "    plt.show()\n",
        "\n",
        "show_images_per_class(df, n=5)"
      ],
      "metadata": {
        "colab": {
          "base_uri": "https://localhost:8080/",
          "height": 1000
        },
        "id": "7NqW-hfuH8IX",
        "outputId": "248bb9f8-93c9-496d-dd30-4b31c9809327"
      },
      "execution_count": 12,
      "outputs": [
        {
          "output_type": "display_data",
          "data": {
            "text/plain": [
              "<Figure size 1000x1400 with 35 Axes>"
            ],
            "image/png": "[encoded data removed]"
          },
          "metadata": {}
        }
      ]
    },
    {
      "cell_type": "code",
      "source": [
        "transform_train = transforms.Compose([\n",
        "    transforms.RandomHorizontalFlip(),\n",
        "    transforms.RandomRotation(15),\n",
        "    transforms.RandomAffine(degrees=0, translate=(0.1, 0.1), scale=(0.9, 1.1)),\n",
        "    transforms.RandomCrop(48, padding=4),\n",
        "    transforms.ToTensor(),\n",
        "    transforms.Normalize(mean=[0.5], std=[0.5])\n",
        "])\n",
        "\n",
        "transform_val = transforms.Compose([\n",
        "    transforms.ToTensor(),\n",
        "    transforms.Normalize(mean=[0.5], std=[0.5])\n",
        "])"
      ],
      "metadata": {
        "id": "_LGVRwlTG8Eu"
      },
      "execution_count": 13,
      "outputs": []
    },
    {
      "cell_type": "code",
      "source": [
        "class FERDataset(Dataset):\n",
        "    def __init__(self, dataframe, transform=None, has_labels=True):\n",
        "        self.data = dataframe\n",
        "        self.transform = transform\n",
        "        self.has_labels = has_labels\n",
        "\n",
        "    def __len__(self):\n",
        "        return len(self.data)\n",
        "\n",
        "    def __getitem__(self, idx):\n",
        "        pixels = np.fromstring(self.data.iloc[idx]['pixels'], sep=' ', dtype=np.uint8).reshape(48, 48)\n",
        "        image = Image.fromarray(pixels, mode='L')\n",
        "\n",
        "        if self.transform:\n",
        "            image = self.transform(image)\n",
        "\n",
        "        if self.has_labels:\n",
        "            label = int(self.data.iloc[idx]['emotion'])\n",
        "            return image, label\n",
        "        else:\n",
        "            return image"
      ],
      "metadata": {
        "id": "NrC600uMHVH3"
      },
      "execution_count": 43,
      "outputs": []
    },
    {
      "cell_type": "code",
      "source": [
        "train_df, val_df = train_test_split(df, test_size=0.2, stratify=df['emotion'], random_state=42)\n",
        "test_df = pd.read_csv('/content/challenges-in-representation-learning-facial-expression-recognition-challenge/test.csv')\n",
        "train_dataset = FERDataset(train_df, transform=transform_train, has_labels=True)\n",
        "val_dataset = FERDataset(val_df, transform=transform_val,has_labels=True)\n",
        "test_dataset = FERDataset(test_df, transform=transform_val,has_labels=False)\n",
        "\n",
        "train_loader = DataLoader(train_dataset, batch_size=64, shuffle=True)\n",
        "val_loader = DataLoader(val_dataset, batch_size=64)\n",
        "test_loader = DataLoader(test_dataset, batch_size=64)\n"
      ],
      "metadata": {
        "id": "VWx7_YFM_Llv"
      },
      "execution_count": 44,
      "outputs": []
    },
    {
      "cell_type": "code",
      "source": [
        "# Simple CNN (baseline)\n",
        "class CNN_model_1(nn.Module):\n",
        "    def __init__(self):\n",
        "        super(CNN_model_1, self).__init__()\n",
        "        self.conv1 = nn.Conv2d(1, 32, kernel_size=3, padding=1)\n",
        "        self.conv2 = nn.Conv2d(32, 64, kernel_size=3, padding=1)\n",
        "        self.pool = nn.MaxPool2d(2, 2)\n",
        "        self.fc1 = nn.Linear(64 * 12 * 12, 128)\n",
        "        self.fc2 = nn.Linear(128, 7)\n",
        "\n",
        "    def forward(self, x):\n",
        "        x = self.pool(F.relu(self.conv1(x)))  # 48→24\n",
        "        x = self.pool(F.relu(self.conv2(x)))  # 24→12\n",
        "        x = x.view(-1, 64 * 12 * 12)\n",
        "        x = F.relu(self.fc1(x))\n",
        "        x = self.fc2(x)\n",
        "        return x\n",
        "\n",
        "class CNN_model_2(nn.Module):\n",
        "    def __init__(self, dropout_rate=0.25):\n",
        "        super(CNN_model_2, self).__init__()\n",
        "        self.conv1 = nn.Conv2d(1, 32, kernel_size=3, padding=1)\n",
        "        self.bn1 = nn.BatchNorm2d(32)\n",
        "        self.conv2 = nn.Conv2d(32, 64, kernel_size=3, padding=1)\n",
        "        self.bn2 = nn.BatchNorm2d(64)\n",
        "        self.conv3 = nn.Conv2d(64, 128, kernel_size=3, padding=1)\n",
        "        self.bn3 = nn.BatchNorm2d(128)\n",
        "        self.pool = nn.MaxPool2d(2, 2)\n",
        "        self.dropout = nn.Dropout(dropout_rate)\n",
        "        self.fc1 = nn.Linear(128 * 6 * 6, 256)\n",
        "        self.fc2 = nn.Linear(256, 128)\n",
        "        self.fc3 = nn.Linear(128, 7)\n",
        "    def forward(self, x):\n",
        "        x = self.pool(F.relu(self.bn1(self.conv1(x))))\n",
        "        x = self.pool(F.relu(self.bn2(self.conv2(x))))\n",
        "        x = self.pool(F.relu(self.bn3(self.conv3(x))))\n",
        "        x = self.dropout(x)\n",
        "        x = torch.flatten(x, 1)\n",
        "        x = F.relu(self.fc1(x))\n",
        "        x = self.dropout(x)\n",
        "        x = F.relu(self.fc2(x))\n",
        "        x = self.fc3(x)\n",
        "        return x\n",
        "\n",
        "class ResidualBlock(nn.Module):\n",
        "    def __init__(self, in_channels, out_channels, stride=1):\n",
        "        super(ResidualBlock, self).__init__()\n",
        "        self.conv1 = nn.Conv2d(in_channels, out_channels, kernel_size=3, stride=stride, padding=1, bias=False)\n",
        "        self.bn1 = nn.BatchNorm2d(out_channels)\n",
        "        self.conv2 = nn.Conv2d(out_channels, out_channels, kernel_size=3, stride=1, padding=1, bias=False)\n",
        "        self.bn2 = nn.BatchNorm2d(out_channels)\n",
        "        self.shortcut = nn.Sequential()\n",
        "        if stride != 1 or in_channels != out_channels:\n",
        "            self.shortcut = nn.Sequential(\n",
        "                nn.Conv2d(in_channels, out_channels, kernel_size=1, stride=stride, bias=False),\n",
        "                nn.BatchNorm2d(out_channels)\n",
        "            )\n",
        "\n",
        "    def forward(self, x):\n",
        "        out = F.relu(self.bn1(self.conv1(x)))\n",
        "        out = self.bn2(self.conv2(out))\n",
        "        out += self.shortcut(x)\n",
        "        out = F.relu(out)\n",
        "        return out\n",
        "\n",
        "class CNN_model_3(nn.Module):\n",
        "    def __init__(self, num_classes=7):\n",
        "        super(CNN_model_3, self).__init__()\n",
        "        self.conv1 = nn.Conv2d(1, 64, kernel_size=3, stride=1, padding=1, bias=False)\n",
        "        self.bn1 = nn.BatchNorm2d(64)\n",
        "        self.layer1 = self.make_layer(64, 64, 2, stride=1)\n",
        "        self.layer2 = self.make_layer(64, 128, 2, stride=2)  # 48→24\n",
        "        self.layer3 = self.make_layer(128, 256, 2, stride=2)  # 24→12\n",
        "        self.pool = nn.AdaptiveAvgPool2d((1, 1))\n",
        "        self.dropout = nn.Dropout(0.5)\n",
        "        self.fc = nn.Linear(256, num_classes)\n",
        "\n",
        "    def make_layer(self, in_channels, out_channels, blocks, stride):\n",
        "        layers = []\n",
        "        layers.append(ResidualBlock(in_channels, out_channels, stride))\n",
        "        for _ in range(1, blocks):\n",
        "            layers.append(ResidualBlock(out_channels, out_channels))\n",
        "        return nn.Sequential(*layers)\n",
        "\n",
        "    def forward(self, x):\n",
        "        x = F.relu(self.bn1(self.conv1(x)))\n",
        "        x = self.layer1(x)\n",
        "        x = self.layer2(x)\n",
        "        x = self.layer3(x)\n",
        "        x = self.pool(x)\n",
        "        x = self.dropout(x)\n",
        "        x = x.view(x.size(0), -1)\n",
        "        x = self.fc(x)\n",
        "        return x"
      ],
      "metadata": {
        "id": "vHKqfGmPBFbC"
      },
      "execution_count": 36,
      "outputs": []
    },
    {
      "cell_type": "code",
      "source": [
        "# Training function with wandb logging\n",
        "def train_model(model, train_loader, val_loader, config, run_name):\n",
        "    wandb.init(project=\"fer2013\", name=run_name, config=config)\n",
        "    device = torch.device(\"cuda\" if torch.cuda.is_available() else \"cpu\")\n",
        "    model = model.to(device)\n",
        "    class_counts = train_df['emotion'].value_counts().sort_index()\n",
        "    class_weights = 1.0 / torch.tensor(class_counts, dtype=torch.float)\n",
        "    class_weights = class_weights / class_weights.sum() * len(class_counts)\n",
        "    criterion = nn.CrossEntropyLoss(weight=class_weights.to(device))\n",
        "    optimizer = torch.optim.Adam(model.parameters(), lr=config['learning_rate'])\n",
        "    scheduler = ReduceLROnPlateau(optimizer, mode='max', factor=0.1, patience=3, verbose=True)\n",
        "    best_val_acc = 0\n",
        "    patience = config['patience']\n",
        "    counter = 0\n",
        "    for epoch in range(config['epochs']):\n",
        "        model.train()\n",
        "        total_loss = 0\n",
        "        correct = 0\n",
        "        total = 0\n",
        "        for images, labels in train_loader:\n",
        "            images, labels = images.to(device), labels.to(device)\n",
        "            optimizer.zero_grad()\n",
        "            outputs = model(images)\n",
        "            loss = criterion(outputs, labels)\n",
        "            loss.backward()\n",
        "            optimizer.step()\n",
        "            total_loss += loss.item()\n",
        "            preds = outputs.argmax(dim=1)\n",
        "            correct += (preds == labels).sum().item()\n",
        "            total += labels.size(0)\n",
        "        train_acc = correct / total\n",
        "        avg_loss = total_loss / len(train_loader)\n",
        "        model.eval()\n",
        "        val_correct = 0\n",
        "        val_total = 0\n",
        "        all_preds, all_labels = [], []\n",
        "        with torch.no_grad():\n",
        "            for images, labels in val_loader:\n",
        "                images, labels = images.to(device), labels.to(device)\n",
        "                outputs = model(images)\n",
        "                preds = outputs.argmax(dim=1)\n",
        "                val_correct += (preds == labels).sum().item()\n",
        "                val_total += labels.size(0)\n",
        "                all_preds.extend(preds.cpu().numpy())\n",
        "                all_labels.extend(labels.cpu().numpy())\n",
        "        val_acc = val_correct / val_total\n",
        "        cm = confusion_matrix(all_labels, all_preds)\n",
        "        plt.figure(figsize=(10, 8))\n",
        "        sns.heatmap(cm, annot=True, fmt='d', cmap='Blues')\n",
        "        wandb.log({\"confusion_matrix\": wandb.Image(plt), \"epoch\": epoch + 1})\n",
        "        plt.close()\n",
        "        wandb.log({\"train_accuracy\": train_acc, \"val_accuracy\": val_acc, \"train_loss\": avg_loss, \"epoch\": epoch + 1})\n",
        "        print(f\"{run_name} Epoch {epoch+1}: Train Acc = {train_acc:.4f}, Val Acc = {val_acc:.4f}, Loss = {avg_loss:.4f}\")\n",
        "        if val_acc > best_val_acc:\n",
        "            best_val_acc = val_acc\n",
        "            torch.save(model.state_dict(), f'best_model_{run_name}.pth')\n",
        "            counter = 0\n",
        "        else:\n",
        "            counter += 1\n",
        "            if counter >= patience:\n",
        "                print(f\"Early stopping at epoch {epoch+1}\")\n",
        "                break\n",
        "        scheduler.step(val_acc)\n",
        "    wandb.finish()\n",
        "    return best_val_acc"
      ],
      "metadata": {
        "id": "1krb43orBKRh"
      },
      "execution_count": 37,
      "outputs": []
    },
    {
      "cell_type": "code",
      "source": [
        "# Experiment configurations\n",
        "# Rationale: Test multiple models and hyperparameters to analyze performance and underfitting/overfitting.\n",
        "experiments = [\n",
        "    {\"model\": CNN_model_1(), \"name\": \"CNN_model_1_lr_0.001\",\n",
        "     \"config\": {\"architecture\": \"CNN_model_1\", \"learning_rate\": 0.001, \"epochs\": 30,\n",
        "                \"batch_size\": 64, \"dropout\": 0.0, \"patience\": 5}},\n",
        "    {\"model\": CNN_model_2(dropout_rate=0.25), \"name\": \"CNN_model_2_lr_0.001_dropout_0.25\",\n",
        "     \"config\": {\"architecture\": \"CNN_model_2\", \"learning_rate\": 0.001, \"epochs\": 30,\n",
        "                \"batch_size\": 64, \"dropout\": 0.25, \"patience\": 5}},\n",
        "    {\"model\": CNN_model_2(dropout_rate=0.5), \"name\": \"CNN_model_2_lr_0.0003_dropout_0.5\",\n",
        "     \"config\": {\"architecture\": \"CNN_model_2\", \"learning_rate\": 0.0003, \"epochs\": 30,\n",
        "                \"batch_size\": 64, \"dropout\": 0.5, \"patience\": 5}},\n",
        "    {\"model\": CNN_model_3(), \"name\": \"CNN_model_3_lr_0.001_dropout_0.5\",\n",
        "     \"config\": {\"architecture\": \"CNN_model_3\", \"learning_rate\": 0.001, \"epochs\": 30,\n",
        "                \"batch_size\": 64, \"dropout\": 0.5, \"patience\": 5}}\n",
        "]\n",
        "\n",
        "# Run experiments\n",
        "results = []\n",
        "for exp in experiments:\n",
        "    print(f\"Running experiment: {exp['name']}\")\n",
        "    val_acc = train_model(exp['model'], train_loader, val_loader, exp['config'], exp['name'])\n",
        "    results.append({\"name\": exp['name'], \"val_accuracy\": val_acc})\n",
        "\n",
        "# Log results summary\n",
        "wandb.init(project=\"fer2013\", name=\"experiment_summary\")\n",
        "table = wandb.Table(columns=[\"Experiment\", \"Validation Accuracy\"])\n",
        "for result in results:\n",
        "    table.add_data(result[\"name\"], result[\"val_accuracy\"])\n",
        "wandb.log({\"experiment_comparison\": table})\n",
        "wandb.finish()"
      ],
      "metadata": {
        "colab": {
          "base_uri": "https://localhost:8080/",
          "height": 1000
        },
        "id": "ppKgjlb9cA1V",
        "outputId": "ee92874b-309b-42a0-fefc-e8807423b61c"
      },
      "execution_count": 38,
      "outputs": [
        {
          "output_type": "stream",
          "name": "stdout",
          "text": [
            "Running experiment: CNN_model_1_lr_0.001\n"
          ]
        },
        {
          "output_type": "display_data",
          "data": {
            "text/plain": [
              "<IPython.core.display.HTML object>"
            ],
            "text/html": [
              "Finishing previous runs because reinit is set to 'default'."
            ]
          },
          "metadata": {}
        },
        {
          "output_type": "display_data",
          "data": {
            "text/plain": [
              "<IPython.core.display.HTML object>"
            ],
            "text/html": []
          },
          "metadata": {}
        },
        {
          "output_type": "display_data",
          "data": {
            "text/plain": [
              "<IPython.core.display.HTML object>"
            ],
            "text/html": [
              "<br>    <style><br>        .wandb-row {<br>            display: flex;<br>            flex-direction: row;<br>            flex-wrap: wrap;<br>            justify-content: flex-start;<br>            width: 100%;<br>        }<br>        .wandb-col {<br>            display: flex;<br>            flex-direction: column;<br>            flex-basis: 100%;<br>            flex: 1;<br>            padding: 10px;<br>        }<br>    </style><br><div class=\"wandb-row\"><div class=\"wandb-col\"><h3>Run history:</h3><br/><table class=\"wandb\"><tr><td>epoch</td><td>▁▁▁▁▁▂▂▂▂▂▂▃▃▃▃▄▄▄▄▄▄▅▅▅▅▅▅▆▆▆▆▆▇▇▇▇████</td></tr><tr><td>train_accuracy</td><td>▁▂▃▄▅▅▅▆▆▆▇▇▇▇▇▇▇▇▇███████████</td></tr><tr><td>train_loss</td><td>█▇▇▆▅▅▄▄▄▃▃▃▃▃▂▂▂▂▂▁▁▁▁▁▁▁▁▁▁▁</td></tr><tr><td>val_accuracy</td><td>▁▃▄▃▆▅▅▆▆▇▆▆▇▇▇▇▇▇████████████</td></tr></table><br/></div><div class=\"wandb-col\"><h3>Run summary:</h3><br/><table class=\"wandb\"><tr><td>epoch</td><td>30</td></tr><tr><td>train_accuracy</td><td>0.39761</td></tr><tr><td>train_loss</td><td>1.56144</td></tr><tr><td>val_accuracy</td><td>0.4131</td></tr></table><br/></div></div>"
            ]
          },
          "metadata": {}
        },
        {
          "output_type": "display_data",
          "data": {
            "text/plain": [
              "<IPython.core.display.HTML object>"
            ],
            "text/html": [
              " View run <strong style=\"color:#cdcd00\">CNN_model_1_lr_0.001</strong> at: <a href='https://wandb.ai/gtoro22-free-university-of-tbilisi-/fer2013/runs/s765y4oz' target=\"_blank\">https://wandb.ai/gtoro22-free-university-of-tbilisi-/fer2013/runs/s765y4oz</a><br> View project at: <a href='https://wandb.ai/gtoro22-free-university-of-tbilisi-/fer2013' target=\"_blank\">https://wandb.ai/gtoro22-free-university-of-tbilisi-/fer2013</a><br>Synced 5 W&B file(s), 30 media file(s), 0 artifact file(s) and 0 other file(s)"
            ]
          },
          "metadata": {}
        },
        {
          "output_type": "display_data",
          "data": {
            "text/plain": [
              "<IPython.core.display.HTML object>"
            ],
            "text/html": [
              "Find logs at: <code>./wandb/run-20250606_095940-s765y4oz/logs</code>"
            ]
          },
          "metadata": {}
        },
        {
          "output_type": "display_data",
          "data": {
            "text/plain": [
              "<IPython.core.display.HTML object>"
            ],
            "text/html": [
              "Tracking run with wandb version 0.19.11"
            ]
          },
          "metadata": {}
        },
        {
          "output_type": "display_data",
          "data": {
            "text/plain": [
              "<IPython.core.display.HTML object>"
            ],
            "text/html": [
              "Run data is saved locally in <code>/content/wandb/run-20250606_104413-5yzsnq4q</code>"
            ]
          },
          "metadata": {}
        },
        {
          "output_type": "display_data",
          "data": {
            "text/plain": [
              "<IPython.core.display.HTML object>"
            ],
            "text/html": [
              "Syncing run <strong><a href='https://wandb.ai/gtoro22-free-university-of-tbilisi-/fer2013/runs/5yzsnq4q' target=\"_blank\">CNN_model_1_lr_0.001</a></strong> to <a href='https://wandb.ai/gtoro22-free-university-of-tbilisi-/fer2013' target=\"_blank\">Weights & Biases</a> (<a href='https://wandb.me/developer-guide' target=\"_blank\">docs</a>)<br>"
            ]
          },
          "metadata": {}
        },
        {
          "output_type": "display_data",
          "data": {
            "text/plain": [
              "<IPython.core.display.HTML object>"
            ],
            "text/html": [
              " View project at <a href='https://wandb.ai/gtoro22-free-university-of-tbilisi-/fer2013' target=\"_blank\">https://wandb.ai/gtoro22-free-university-of-tbilisi-/fer2013</a>"
            ]
          },
          "metadata": {}
        },
        {
          "output_type": "display_data",
          "data": {
            "text/plain": [
              "<IPython.core.display.HTML object>"
            ],
            "text/html": [
              " View run at <a href='https://wandb.ai/gtoro22-free-university-of-tbilisi-/fer2013/runs/5yzsnq4q' target=\"_blank\">https://wandb.ai/gtoro22-free-university-of-tbilisi-/fer2013/runs/5yzsnq4q</a>"
            ]
          },
          "metadata": {}
        },
        {
          "output_type": "stream",
          "name": "stderr",
          "text": [
            "/usr/local/lib/python3.11/dist-packages/torch/optim/lr_scheduler.py:62: UserWarning: The verbose parameter is deprecated. Please use get_last_lr() to access the learning rate.\n",
            "  warnings.warn(\n"
          ]
        },
        {
          "output_type": "stream",
          "name": "stdout",
          "text": [
            "CNN_model_1_lr_0.001 Epoch 1: Train Acc = 0.2036, Val Acc = 0.2534, Loss = 1.9110\n",
            "CNN_model_1_lr_0.001 Epoch 2: Train Acc = 0.2636, Val Acc = 0.3312, Loss = 1.8508\n",
            "CNN_model_1_lr_0.001 Epoch 3: Train Acc = 0.2878, Val Acc = 0.3586, Loss = 1.7914\n",
            "CNN_model_1_lr_0.001 Epoch 4: Train Acc = 0.3192, Val Acc = 0.4152, Loss = 1.7478\n",
            "CNN_model_1_lr_0.001 Epoch 5: Train Acc = 0.3398, Val Acc = 0.3882, Loss = 1.7188\n",
            "CNN_model_1_lr_0.001 Epoch 6: Train Acc = 0.3451, Val Acc = 0.4002, Loss = 1.6990\n",
            "CNN_model_1_lr_0.001 Epoch 7: Train Acc = 0.3595, Val Acc = 0.4312, Loss = 1.6732\n",
            "CNN_model_1_lr_0.001 Epoch 8: Train Acc = 0.3650, Val Acc = 0.4302, Loss = 1.6484\n",
            "CNN_model_1_lr_0.001 Epoch 9: Train Acc = 0.3724, Val Acc = 0.4432, Loss = 1.6422\n",
            "CNN_model_1_lr_0.001 Epoch 10: Train Acc = 0.3796, Val Acc = 0.4352, Loss = 1.6259\n",
            "CNN_model_1_lr_0.001 Epoch 11: Train Acc = 0.3823, Val Acc = 0.4446, Loss = 1.6092\n",
            "CNN_model_1_lr_0.001 Epoch 12: Train Acc = 0.3921, Val Acc = 0.4573, Loss = 1.5865\n",
            "CNN_model_1_lr_0.001 Epoch 13: Train Acc = 0.3987, Val Acc = 0.4166, Loss = 1.5811\n",
            "CNN_model_1_lr_0.001 Epoch 14: Train Acc = 0.3960, Val Acc = 0.4720, Loss = 1.5757\n",
            "CNN_model_1_lr_0.001 Epoch 15: Train Acc = 0.4070, Val Acc = 0.4678, Loss = 1.5759\n",
            "CNN_model_1_lr_0.001 Epoch 16: Train Acc = 0.4058, Val Acc = 0.4857, Loss = 1.5491\n",
            "CNN_model_1_lr_0.001 Epoch 17: Train Acc = 0.4093, Val Acc = 0.4563, Loss = 1.5508\n",
            "CNN_model_1_lr_0.001 Epoch 18: Train Acc = 0.4181, Val Acc = 0.4716, Loss = 1.5353\n",
            "CNN_model_1_lr_0.001 Epoch 19: Train Acc = 0.4169, Val Acc = 0.4657, Loss = 1.5328\n",
            "CNN_model_1_lr_0.001 Epoch 20: Train Acc = 0.4122, Val Acc = 0.4753, Loss = 1.5230\n",
            "CNN_model_1_lr_0.001 Epoch 21: Train Acc = 0.4240, Val Acc = 0.4842, Loss = 1.4918\n",
            "Early stopping at epoch 21\n"
          ]
        },
        {
          "output_type": "display_data",
          "data": {
            "text/plain": [
              "<IPython.core.display.HTML object>"
            ],
            "text/html": []
          },
          "metadata": {}
        },
        {
          "output_type": "display_data",
          "data": {
            "text/plain": [
              "<IPython.core.display.HTML object>"
            ],
            "text/html": [
              "<br>    <style><br>        .wandb-row {<br>            display: flex;<br>            flex-direction: row;<br>            flex-wrap: wrap;<br>            justify-content: flex-start;<br>            width: 100%;<br>        }<br>        .wandb-col {<br>            display: flex;<br>            flex-direction: column;<br>            flex-basis: 100%;<br>            flex: 1;<br>            padding: 10px;<br>        }<br>    </style><br><div class=\"wandb-row\"><div class=\"wandb-col\"><h3>Run history:</h3><br/><table class=\"wandb\"><tr><td>epoch</td><td>▁▁▁▁▂▂▂▂▂▂▃▃▃▃▃▃▄▄▄▄▅▅▅▅▅▆▆▆▆▆▆▇▇▇▇▇▇███</td></tr><tr><td>train_accuracy</td><td>▁▃▄▅▅▅▆▆▆▇▇▇▇▇▇▇█████</td></tr><tr><td>train_loss</td><td>█▇▆▅▅▄▄▄▄▃▃▃▂▂▂▂▂▂▂▂▁</td></tr><tr><td>val_accuracy</td><td>▁▃▄▆▅▅▆▆▇▆▇▇▆█▇█▇█▇██</td></tr></table><br/></div><div class=\"wandb-col\"><h3>Run summary:</h3><br/><table class=\"wandb\"><tr><td>epoch</td><td>21</td></tr><tr><td>train_accuracy</td><td>0.42404</td></tr><tr><td>train_loss</td><td>1.49184</td></tr><tr><td>val_accuracy</td><td>0.48415</td></tr></table><br/></div></div>"
            ]
          },
          "metadata": {}
        },
        {
          "output_type": "display_data",
          "data": {
            "text/plain": [
              "<IPython.core.display.HTML object>"
            ],
            "text/html": [
              " View run <strong style=\"color:#cdcd00\">CNN_model_1_lr_0.001</strong> at: <a href='https://wandb.ai/gtoro22-free-university-of-tbilisi-/fer2013/runs/5yzsnq4q' target=\"_blank\">https://wandb.ai/gtoro22-free-university-of-tbilisi-/fer2013/runs/5yzsnq4q</a><br> View project at: <a href='https://wandb.ai/gtoro22-free-university-of-tbilisi-/fer2013' target=\"_blank\">https://wandb.ai/gtoro22-free-university-of-tbilisi-/fer2013</a><br>Synced 5 W&B file(s), 21 media file(s), 0 artifact file(s) and 0 other file(s)"
            ]
          },
          "metadata": {}
        },
        {
          "output_type": "display_data",
          "data": {
            "text/plain": [
              "<IPython.core.display.HTML object>"
            ],
            "text/html": [
              "Find logs at: <code>./wandb/run-20250606_104413-5yzsnq4q/logs</code>"
            ]
          },
          "metadata": {}
        },
        {
          "output_type": "stream",
          "name": "stdout",
          "text": [
            "Running experiment: CNN_model_2_lr_0.001_dropout_0.25\n"
          ]
        },
        {
          "output_type": "display_data",
          "data": {
            "text/plain": [
              "<IPython.core.display.HTML object>"
            ],
            "text/html": [
              "Tracking run with wandb version 0.19.11"
            ]
          },
          "metadata": {}
        },
        {
          "output_type": "display_data",
          "data": {
            "text/plain": [
              "<IPython.core.display.HTML object>"
            ],
            "text/html": [
              "Run data is saved locally in <code>/content/wandb/run-20250606_105235-5xz6y6tg</code>"
            ]
          },
          "metadata": {}
        },
        {
          "output_type": "display_data",
          "data": {
            "text/plain": [
              "<IPython.core.display.HTML object>"
            ],
            "text/html": [
              "Syncing run <strong><a href='https://wandb.ai/gtoro22-free-university-of-tbilisi-/fer2013/runs/5xz6y6tg' target=\"_blank\">CNN_model_2_lr_0.001_dropout_0.25</a></strong> to <a href='https://wandb.ai/gtoro22-free-university-of-tbilisi-/fer2013' target=\"_blank\">Weights & Biases</a> (<a href='https://wandb.me/developer-guide' target=\"_blank\">docs</a>)<br>"
            ]
          },
          "metadata": {}
        },
        {
          "output_type": "display_data",
          "data": {
            "text/plain": [
              "<IPython.core.display.HTML object>"
            ],
            "text/html": [
              " View project at <a href='https://wandb.ai/gtoro22-free-university-of-tbilisi-/fer2013' target=\"_blank\">https://wandb.ai/gtoro22-free-university-of-tbilisi-/fer2013</a>"
            ]
          },
          "metadata": {}
        },
        {
          "output_type": "display_data",
          "data": {
            "text/plain": [
              "<IPython.core.display.HTML object>"
            ],
            "text/html": [
              " View run at <a href='https://wandb.ai/gtoro22-free-university-of-tbilisi-/fer2013/runs/5xz6y6tg' target=\"_blank\">https://wandb.ai/gtoro22-free-university-of-tbilisi-/fer2013/runs/5xz6y6tg</a>"
            ]
          },
          "metadata": {}
        },
        {
          "output_type": "stream",
          "name": "stderr",
          "text": [
            "/usr/local/lib/python3.11/dist-packages/torch/optim/lr_scheduler.py:62: UserWarning: The verbose parameter is deprecated. Please use get_last_lr() to access the learning rate.\n",
            "  warnings.warn(\n"
          ]
        },
        {
          "output_type": "stream",
          "name": "stdout",
          "text": [
            "CNN_model_2_lr_0.001_dropout_0.25 Epoch 1: Train Acc = 0.1972, Val Acc = 0.2165, Loss = 1.9251\n",
            "CNN_model_2_lr_0.001_dropout_0.25 Epoch 2: Train Acc = 0.2352, Val Acc = 0.3245, Loss = 1.8557\n",
            "CNN_model_2_lr_0.001_dropout_0.25 Epoch 3: Train Acc = 0.2973, Val Acc = 0.3445, Loss = 1.7864\n",
            "CNN_model_2_lr_0.001_dropout_0.25 Epoch 4: Train Acc = 0.3150, Val Acc = 0.3823, Loss = 1.7446\n",
            "CNN_model_2_lr_0.001_dropout_0.25 Epoch 5: Train Acc = 0.3225, Val Acc = 0.3683, Loss = 1.7081\n",
            "CNN_model_2_lr_0.001_dropout_0.25 Epoch 6: Train Acc = 0.3352, Val Acc = 0.4209, Loss = 1.6774\n",
            "CNN_model_2_lr_0.001_dropout_0.25 Epoch 7: Train Acc = 0.3566, Val Acc = 0.4105, Loss = 1.6564\n",
            "CNN_model_2_lr_0.001_dropout_0.25 Epoch 8: Train Acc = 0.3660, Val Acc = 0.4687, Loss = 1.6119\n",
            "CNN_model_2_lr_0.001_dropout_0.25 Epoch 9: Train Acc = 0.3715, Val Acc = 0.3748, Loss = 1.6034\n",
            "CNN_model_2_lr_0.001_dropout_0.25 Epoch 10: Train Acc = 0.3822, Val Acc = 0.4533, Loss = 1.5860\n",
            "CNN_model_2_lr_0.001_dropout_0.25 Epoch 11: Train Acc = 0.3877, Val Acc = 0.4542, Loss = 1.5635\n",
            "CNN_model_2_lr_0.001_dropout_0.25 Epoch 12: Train Acc = 0.3930, Val Acc = 0.4521, Loss = 1.5425\n",
            "CNN_model_2_lr_0.001_dropout_0.25 Epoch 13: Train Acc = 0.4139, Val Acc = 0.4878, Loss = 1.4995\n",
            "CNN_model_2_lr_0.001_dropout_0.25 Epoch 14: Train Acc = 0.4180, Val Acc = 0.4902, Loss = 1.4847\n",
            "CNN_model_2_lr_0.001_dropout_0.25 Epoch 15: Train Acc = 0.4210, Val Acc = 0.4861, Loss = 1.4831\n",
            "CNN_model_2_lr_0.001_dropout_0.25 Epoch 16: Train Acc = 0.4222, Val Acc = 0.4897, Loss = 1.4767\n",
            "CNN_model_2_lr_0.001_dropout_0.25 Epoch 17: Train Acc = 0.4234, Val Acc = 0.4986, Loss = 1.4683\n",
            "CNN_model_2_lr_0.001_dropout_0.25 Epoch 18: Train Acc = 0.4241, Val Acc = 0.4904, Loss = 1.4760\n",
            "CNN_model_2_lr_0.001_dropout_0.25 Epoch 19: Train Acc = 0.4286, Val Acc = 0.4911, Loss = 1.4641\n",
            "CNN_model_2_lr_0.001_dropout_0.25 Epoch 20: Train Acc = 0.4285, Val Acc = 0.4962, Loss = 1.4614\n",
            "CNN_model_2_lr_0.001_dropout_0.25 Epoch 21: Train Acc = 0.4314, Val Acc = 0.4962, Loss = 1.4527\n",
            "CNN_model_2_lr_0.001_dropout_0.25 Epoch 22: Train Acc = 0.4334, Val Acc = 0.4970, Loss = 1.4450\n",
            "Early stopping at epoch 22\n"
          ]
        },
        {
          "output_type": "display_data",
          "data": {
            "text/plain": [
              "<IPython.core.display.HTML object>"
            ],
            "text/html": []
          },
          "metadata": {}
        },
        {
          "output_type": "display_data",
          "data": {
            "text/plain": [
              "<IPython.core.display.HTML object>"
            ],
            "text/html": [
              "<br>    <style><br>        .wandb-row {<br>            display: flex;<br>            flex-direction: row;<br>            flex-wrap: wrap;<br>            justify-content: flex-start;<br>            width: 100%;<br>        }<br>        .wandb-col {<br>            display: flex;<br>            flex-direction: column;<br>            flex-basis: 100%;<br>            flex: 1;<br>            padding: 10px;<br>        }<br>    </style><br><div class=\"wandb-row\"><div class=\"wandb-col\"><h3>Run history:</h3><br/><table class=\"wandb\"><tr><td>epoch</td><td>▁▁▁▁▂▂▂▂▂▂▃▃▃▃▃▄▄▄▄▄▅▅▅▅▅▅▆▆▆▆▆▇▇▇▇▇▇███</td></tr><tr><td>train_accuracy</td><td>▁▂▄▄▅▅▆▆▆▆▇▇▇█████████</td></tr><tr><td>train_loss</td><td>█▇▆▅▅▄▄▃▃▃▃▂▂▂▂▁▁▁▁▁▁▁</td></tr><tr><td>val_accuracy</td><td>▁▄▄▅▅▆▆▇▅▇▇▇██████████</td></tr></table><br/></div><div class=\"wandb-col\"><h3>Run summary:</h3><br/><table class=\"wandb\"><tr><td>epoch</td><td>22</td></tr><tr><td>train_accuracy</td><td>0.43336</td></tr><tr><td>train_loss</td><td>1.44503</td></tr><tr><td>val_accuracy</td><td>0.49704</td></tr></table><br/></div></div>"
            ]
          },
          "metadata": {}
        },
        {
          "output_type": "display_data",
          "data": {
            "text/plain": [
              "<IPython.core.display.HTML object>"
            ],
            "text/html": [
              " View run <strong style=\"color:#cdcd00\">CNN_model_2_lr_0.001_dropout_0.25</strong> at: <a href='https://wandb.ai/gtoro22-free-university-of-tbilisi-/fer2013/runs/5xz6y6tg' target=\"_blank\">https://wandb.ai/gtoro22-free-university-of-tbilisi-/fer2013/runs/5xz6y6tg</a><br> View project at: <a href='https://wandb.ai/gtoro22-free-university-of-tbilisi-/fer2013' target=\"_blank\">https://wandb.ai/gtoro22-free-university-of-tbilisi-/fer2013</a><br>Synced 5 W&B file(s), 22 media file(s), 0 artifact file(s) and 0 other file(s)"
            ]
          },
          "metadata": {}
        },
        {
          "output_type": "display_data",
          "data": {
            "text/plain": [
              "<IPython.core.display.HTML object>"
            ],
            "text/html": [
              "Find logs at: <code>./wandb/run-20250606_105235-5xz6y6tg/logs</code>"
            ]
          },
          "metadata": {}
        },
        {
          "output_type": "stream",
          "name": "stdout",
          "text": [
            "Running experiment: CNN_model_2_lr_0.0003_dropout_0.5\n"
          ]
        },
        {
          "output_type": "display_data",
          "data": {
            "text/plain": [
              "<IPython.core.display.HTML object>"
            ],
            "text/html": [
              "Tracking run with wandb version 0.19.11"
            ]
          },
          "metadata": {}
        },
        {
          "output_type": "display_data",
          "data": {
            "text/plain": [
              "<IPython.core.display.HTML object>"
            ],
            "text/html": [
              "Run data is saved locally in <code>/content/wandb/run-20250606_110139-k2d11ccl</code>"
            ]
          },
          "metadata": {}
        },
        {
          "output_type": "display_data",
          "data": {
            "text/plain": [
              "<IPython.core.display.HTML object>"
            ],
            "text/html": [
              "Syncing run <strong><a href='https://wandb.ai/gtoro22-free-university-of-tbilisi-/fer2013/runs/k2d11ccl' target=\"_blank\">CNN_model_2_lr_0.0003_dropout_0.5</a></strong> to <a href='https://wandb.ai/gtoro22-free-university-of-tbilisi-/fer2013' target=\"_blank\">Weights & Biases</a> (<a href='https://wandb.me/developer-guide' target=\"_blank\">docs</a>)<br>"
            ]
          },
          "metadata": {}
        },
        {
          "output_type": "display_data",
          "data": {
            "text/plain": [
              "<IPython.core.display.HTML object>"
            ],
            "text/html": [
              " View project at <a href='https://wandb.ai/gtoro22-free-university-of-tbilisi-/fer2013' target=\"_blank\">https://wandb.ai/gtoro22-free-university-of-tbilisi-/fer2013</a>"
            ]
          },
          "metadata": {}
        },
        {
          "output_type": "display_data",
          "data": {
            "text/plain": [
              "<IPython.core.display.HTML object>"
            ],
            "text/html": [
              " View run at <a href='https://wandb.ai/gtoro22-free-university-of-tbilisi-/fer2013/runs/k2d11ccl' target=\"_blank\">https://wandb.ai/gtoro22-free-university-of-tbilisi-/fer2013/runs/k2d11ccl</a>"
            ]
          },
          "metadata": {}
        },
        {
          "output_type": "stream",
          "name": "stderr",
          "text": [
            "/usr/local/lib/python3.11/dist-packages/torch/optim/lr_scheduler.py:62: UserWarning: The verbose parameter is deprecated. Please use get_last_lr() to access the learning rate.\n",
            "  warnings.warn(\n"
          ]
        },
        {
          "output_type": "stream",
          "name": "stdout",
          "text": [
            "CNN_model_2_lr_0.0003_dropout_0.5 Epoch 1: Train Acc = 0.1802, Val Acc = 0.2271, Loss = 1.9367\n",
            "CNN_model_2_lr_0.0003_dropout_0.5 Epoch 2: Train Acc = 0.2013, Val Acc = 0.2356, Loss = 1.9050\n",
            "CNN_model_2_lr_0.0003_dropout_0.5 Epoch 3: Train Acc = 0.2144, Val Acc = 0.2301, Loss = 1.8669\n",
            "CNN_model_2_lr_0.0003_dropout_0.5 Epoch 4: Train Acc = 0.2536, Val Acc = 0.2109, Loss = 1.8293\n",
            "CNN_model_2_lr_0.0003_dropout_0.5 Epoch 5: Train Acc = 0.2705, Val Acc = 0.3413, Loss = 1.8009\n",
            "CNN_model_2_lr_0.0003_dropout_0.5 Epoch 6: Train Acc = 0.2892, Val Acc = 0.3856, Loss = 1.7704\n",
            "CNN_model_2_lr_0.0003_dropout_0.5 Epoch 7: Train Acc = 0.3040, Val Acc = 0.3011, Loss = 1.7451\n",
            "CNN_model_2_lr_0.0003_dropout_0.5 Epoch 8: Train Acc = 0.3127, Val Acc = 0.3776, Loss = 1.7201\n",
            "CNN_model_2_lr_0.0003_dropout_0.5 Epoch 9: Train Acc = 0.3278, Val Acc = 0.4025, Loss = 1.7095\n",
            "CNN_model_2_lr_0.0003_dropout_0.5 Epoch 10: Train Acc = 0.3345, Val Acc = 0.3962, Loss = 1.6766\n",
            "CNN_model_2_lr_0.0003_dropout_0.5 Epoch 11: Train Acc = 0.3419, Val Acc = 0.4183, Loss = 1.6698\n",
            "CNN_model_2_lr_0.0003_dropout_0.5 Epoch 12: Train Acc = 0.3567, Val Acc = 0.4437, Loss = 1.6536\n",
            "CNN_model_2_lr_0.0003_dropout_0.5 Epoch 13: Train Acc = 0.3589, Val Acc = 0.4082, Loss = 1.6285\n",
            "CNN_model_2_lr_0.0003_dropout_0.5 Epoch 14: Train Acc = 0.3626, Val Acc = 0.4241, Loss = 1.6291\n",
            "CNN_model_2_lr_0.0003_dropout_0.5 Epoch 15: Train Acc = 0.3653, Val Acc = 0.4615, Loss = 1.6267\n",
            "CNN_model_2_lr_0.0003_dropout_0.5 Epoch 16: Train Acc = 0.3720, Val Acc = 0.4624, Loss = 1.6103\n",
            "CNN_model_2_lr_0.0003_dropout_0.5 Epoch 17: Train Acc = 0.3761, Val Acc = 0.4622, Loss = 1.5903\n",
            "CNN_model_2_lr_0.0003_dropout_0.5 Epoch 18: Train Acc = 0.3802, Val Acc = 0.4582, Loss = 1.5916\n",
            "CNN_model_2_lr_0.0003_dropout_0.5 Epoch 19: Train Acc = 0.3817, Val Acc = 0.4451, Loss = 1.5885\n",
            "CNN_model_2_lr_0.0003_dropout_0.5 Epoch 20: Train Acc = 0.3878, Val Acc = 0.4633, Loss = 1.5717\n",
            "CNN_model_2_lr_0.0003_dropout_0.5 Epoch 21: Train Acc = 0.3862, Val Acc = 0.4707, Loss = 1.5738\n",
            "CNN_model_2_lr_0.0003_dropout_0.5 Epoch 22: Train Acc = 0.3930, Val Acc = 0.4793, Loss = 1.5648\n",
            "CNN_model_2_lr_0.0003_dropout_0.5 Epoch 23: Train Acc = 0.3944, Val Acc = 0.4660, Loss = 1.5642\n",
            "CNN_model_2_lr_0.0003_dropout_0.5 Epoch 24: Train Acc = 0.3965, Val Acc = 0.4892, Loss = 1.5441\n",
            "CNN_model_2_lr_0.0003_dropout_0.5 Epoch 25: Train Acc = 0.3971, Val Acc = 0.4852, Loss = 1.5419\n",
            "CNN_model_2_lr_0.0003_dropout_0.5 Epoch 26: Train Acc = 0.3980, Val Acc = 0.4817, Loss = 1.5460\n",
            "CNN_model_2_lr_0.0003_dropout_0.5 Epoch 27: Train Acc = 0.4054, Val Acc = 0.4828, Loss = 1.5321\n",
            "CNN_model_2_lr_0.0003_dropout_0.5 Epoch 28: Train Acc = 0.4063, Val Acc = 0.4883, Loss = 1.5180\n",
            "CNN_model_2_lr_0.0003_dropout_0.5 Epoch 29: Train Acc = 0.4145, Val Acc = 0.4934, Loss = 1.4909\n",
            "CNN_model_2_lr_0.0003_dropout_0.5 Epoch 30: Train Acc = 0.4115, Val Acc = 0.4941, Loss = 1.5017\n"
          ]
        },
        {
          "output_type": "display_data",
          "data": {
            "text/plain": [
              "<IPython.core.display.HTML object>"
            ],
            "text/html": []
          },
          "metadata": {}
        },
        {
          "output_type": "display_data",
          "data": {
            "text/plain": [
              "<IPython.core.display.HTML object>"
            ],
            "text/html": [
              "<br>    <style><br>        .wandb-row {<br>            display: flex;<br>            flex-direction: row;<br>            flex-wrap: wrap;<br>            justify-content: flex-start;<br>            width: 100%;<br>        }<br>        .wandb-col {<br>            display: flex;<br>            flex-direction: column;<br>            flex-basis: 100%;<br>            flex: 1;<br>            padding: 10px;<br>        }<br>    </style><br><div class=\"wandb-row\"><div class=\"wandb-col\"><h3>Run history:</h3><br/><table class=\"wandb\"><tr><td>epoch</td><td>▁▁▁▁▁▂▂▂▂▂▃▃▃▃▃▃▄▄▄▄▄▄▅▅▅▅▆▆▆▆▇▇▇▇▇▇████</td></tr><tr><td>train_accuracy</td><td>▁▂▂▃▄▄▅▅▅▆▆▆▆▆▇▇▇▇▇▇▇▇▇▇▇█████</td></tr><tr><td>train_loss</td><td>██▇▆▆▅▅▅▄▄▄▄▃▃▃▃▃▃▃▂▂▂▂▂▂▂▂▁▁▁</td></tr><tr><td>val_accuracy</td><td>▁▂▁▁▄▅▃▅▆▆▆▇▆▆▇▇▇▇▇▇▇█▇███████</td></tr></table><br/></div><div class=\"wandb-col\"><h3>Run summary:</h3><br/><table class=\"wandb\"><tr><td>epoch</td><td>30</td></tr><tr><td>train_accuracy</td><td>0.4115</td></tr><tr><td>train_loss</td><td>1.50174</td></tr><tr><td>val_accuracy</td><td>0.49408</td></tr></table><br/></div></div>"
            ]
          },
          "metadata": {}
        },
        {
          "output_type": "display_data",
          "data": {
            "text/plain": [
              "<IPython.core.display.HTML object>"
            ],
            "text/html": [
              " View run <strong style=\"color:#cdcd00\">CNN_model_2_lr_0.0003_dropout_0.5</strong> at: <a href='https://wandb.ai/gtoro22-free-university-of-tbilisi-/fer2013/runs/k2d11ccl' target=\"_blank\">https://wandb.ai/gtoro22-free-university-of-tbilisi-/fer2013/runs/k2d11ccl</a><br> View project at: <a href='https://wandb.ai/gtoro22-free-university-of-tbilisi-/fer2013' target=\"_blank\">https://wandb.ai/gtoro22-free-university-of-tbilisi-/fer2013</a><br>Synced 5 W&B file(s), 30 media file(s), 0 artifact file(s) and 0 other file(s)"
            ]
          },
          "metadata": {}
        },
        {
          "output_type": "display_data",
          "data": {
            "text/plain": [
              "<IPython.core.display.HTML object>"
            ],
            "text/html": [
              "Find logs at: <code>./wandb/run-20250606_110139-k2d11ccl/logs</code>"
            ]
          },
          "metadata": {}
        },
        {
          "output_type": "stream",
          "name": "stdout",
          "text": [
            "Running experiment: CNN_model_3_lr_0.001_dropout_0.5\n"
          ]
        },
        {
          "output_type": "display_data",
          "data": {
            "text/plain": [
              "<IPython.core.display.HTML object>"
            ],
            "text/html": [
              "Tracking run with wandb version 0.19.11"
            ]
          },
          "metadata": {}
        },
        {
          "output_type": "display_data",
          "data": {
            "text/plain": [
              "<IPython.core.display.HTML object>"
            ],
            "text/html": [
              "Run data is saved locally in <code>/content/wandb/run-20250606_111405-dni92u6g</code>"
            ]
          },
          "metadata": {}
        },
        {
          "output_type": "display_data",
          "data": {
            "text/plain": [
              "<IPython.core.display.HTML object>"
            ],
            "text/html": [
              "Syncing run <strong><a href='https://wandb.ai/gtoro22-free-university-of-tbilisi-/fer2013/runs/dni92u6g' target=\"_blank\">CNN_model_3_lr_0.001_dropout_0.5</a></strong> to <a href='https://wandb.ai/gtoro22-free-university-of-tbilisi-/fer2013' target=\"_blank\">Weights & Biases</a> (<a href='https://wandb.me/developer-guide' target=\"_blank\">docs</a>)<br>"
            ]
          },
          "metadata": {}
        },
        {
          "output_type": "display_data",
          "data": {
            "text/plain": [
              "<IPython.core.display.HTML object>"
            ],
            "text/html": [
              " View project at <a href='https://wandb.ai/gtoro22-free-university-of-tbilisi-/fer2013' target=\"_blank\">https://wandb.ai/gtoro22-free-university-of-tbilisi-/fer2013</a>"
            ]
          },
          "metadata": {}
        },
        {
          "output_type": "display_data",
          "data": {
            "text/plain": [
              "<IPython.core.display.HTML object>"
            ],
            "text/html": [
              " View run at <a href='https://wandb.ai/gtoro22-free-university-of-tbilisi-/fer2013/runs/dni92u6g' target=\"_blank\">https://wandb.ai/gtoro22-free-university-of-tbilisi-/fer2013/runs/dni92u6g</a>"
            ]
          },
          "metadata": {}
        },
        {
          "output_type": "stream",
          "name": "stderr",
          "text": [
            "/usr/local/lib/python3.11/dist-packages/torch/optim/lr_scheduler.py:62: UserWarning: The verbose parameter is deprecated. Please use get_last_lr() to access the learning rate.\n",
            "  warnings.warn(\n"
          ]
        },
        {
          "output_type": "stream",
          "name": "stdout",
          "text": [
            "CNN_model_3_lr_0.001_dropout_0.5 Epoch 1: Train Acc = 0.1733, Val Acc = 0.2316, Loss = 1.9622\n",
            "CNN_model_3_lr_0.001_dropout_0.5 Epoch 2: Train Acc = 0.1962, Val Acc = 0.1963, Loss = 1.8984\n",
            "CNN_model_3_lr_0.001_dropout_0.5 Epoch 3: Train Acc = 0.2588, Val Acc = 0.3232, Loss = 1.8093\n",
            "CNN_model_3_lr_0.001_dropout_0.5 Epoch 4: Train Acc = 0.3347, Val Acc = 0.4138, Loss = 1.7215\n",
            "CNN_model_3_lr_0.001_dropout_0.5 Epoch 5: Train Acc = 0.3792, Val Acc = 0.4326, Loss = 1.6364\n",
            "CNN_model_3_lr_0.001_dropout_0.5 Epoch 6: Train Acc = 0.4012, Val Acc = 0.2839, Loss = 1.5773\n",
            "CNN_model_3_lr_0.001_dropout_0.5 Epoch 7: Train Acc = 0.4156, Val Acc = 0.4134, Loss = 1.5225\n",
            "CNN_model_3_lr_0.001_dropout_0.5 Epoch 8: Train Acc = 0.4360, Val Acc = 0.4775, Loss = 1.4712\n",
            "CNN_model_3_lr_0.001_dropout_0.5 Epoch 9: Train Acc = 0.4504, Val Acc = 0.5155, Loss = 1.4360\n",
            "CNN_model_3_lr_0.001_dropout_0.5 Epoch 10: Train Acc = 0.4655, Val Acc = 0.4664, Loss = 1.4021\n",
            "CNN_model_3_lr_0.001_dropout_0.5 Epoch 11: Train Acc = 0.4806, Val Acc = 0.5007, Loss = 1.3758\n",
            "CNN_model_3_lr_0.001_dropout_0.5 Epoch 12: Train Acc = 0.4884, Val Acc = 0.5439, Loss = 1.3460\n",
            "CNN_model_3_lr_0.001_dropout_0.5 Epoch 13: Train Acc = 0.5019, Val Acc = 0.5259, Loss = 1.3021\n",
            "CNN_model_3_lr_0.001_dropout_0.5 Epoch 14: Train Acc = 0.5074, Val Acc = 0.5594, Loss = 1.2935\n",
            "CNN_model_3_lr_0.001_dropout_0.5 Epoch 15: Train Acc = 0.5157, Val Acc = 0.5456, Loss = 1.2736\n",
            "CNN_model_3_lr_0.001_dropout_0.5 Epoch 16: Train Acc = 0.5276, Val Acc = 0.5677, Loss = 1.2430\n",
            "CNN_model_3_lr_0.001_dropout_0.5 Epoch 17: Train Acc = 0.5316, Val Acc = 0.5585, Loss = 1.2273\n",
            "CNN_model_3_lr_0.001_dropout_0.5 Epoch 18: Train Acc = 0.5343, Val Acc = 0.5843, Loss = 1.2048\n",
            "CNN_model_3_lr_0.001_dropout_0.5 Epoch 19: Train Acc = 0.5461, Val Acc = 0.5693, Loss = 1.1850\n",
            "CNN_model_3_lr_0.001_dropout_0.5 Epoch 20: Train Acc = 0.5518, Val Acc = 0.5810, Loss = 1.1793\n",
            "CNN_model_3_lr_0.001_dropout_0.5 Epoch 21: Train Acc = 0.5503, Val Acc = 0.5726, Loss = 1.1768\n",
            "CNN_model_3_lr_0.001_dropout_0.5 Epoch 22: Train Acc = 0.5629, Val Acc = 0.6034, Loss = 1.1352\n",
            "CNN_model_3_lr_0.001_dropout_0.5 Epoch 23: Train Acc = 0.5698, Val Acc = 0.5590, Loss = 1.1193\n",
            "CNN_model_3_lr_0.001_dropout_0.5 Epoch 24: Train Acc = 0.5709, Val Acc = 0.6007, Loss = 1.1059\n",
            "CNN_model_3_lr_0.001_dropout_0.5 Epoch 25: Train Acc = 0.5771, Val Acc = 0.5763, Loss = 1.1079\n",
            "CNN_model_3_lr_0.001_dropout_0.5 Epoch 26: Train Acc = 0.5816, Val Acc = 0.6034, Loss = 1.0677\n",
            "CNN_model_3_lr_0.001_dropout_0.5 Epoch 27: Train Acc = 0.6037, Val Acc = 0.6184, Loss = 1.0095\n",
            "CNN_model_3_lr_0.001_dropout_0.5 Epoch 28: Train Acc = 0.6138, Val Acc = 0.6261, Loss = 0.9795\n",
            "CNN_model_3_lr_0.001_dropout_0.5 Epoch 29: Train Acc = 0.6206, Val Acc = 0.6254, Loss = 0.9683\n",
            "CNN_model_3_lr_0.001_dropout_0.5 Epoch 30: Train Acc = 0.6218, Val Acc = 0.6231, Loss = 0.9581\n"
          ]
        },
        {
          "output_type": "display_data",
          "data": {
            "text/plain": [
              "<IPython.core.display.HTML object>"
            ],
            "text/html": []
          },
          "metadata": {}
        },
        {
          "output_type": "display_data",
          "data": {
            "text/plain": [
              "<IPython.core.display.HTML object>"
            ],
            "text/html": [
              "<br>    <style><br>        .wandb-row {<br>            display: flex;<br>            flex-direction: row;<br>            flex-wrap: wrap;<br>            justify-content: flex-start;<br>            width: 100%;<br>        }<br>        .wandb-col {<br>            display: flex;<br>            flex-direction: column;<br>            flex-basis: 100%;<br>            flex: 1;<br>            padding: 10px;<br>        }<br>    </style><br><div class=\"wandb-row\"><div class=\"wandb-col\"><h3>Run history:</h3><br/><table class=\"wandb\"><tr><td>epoch</td><td>▁▁▁▁▁▂▂▂▂▂▃▃▃▃▃▃▄▄▄▄▄▄▅▅▅▅▅▅▆▆▆▆▇▇▇▇████</td></tr><tr><td>train_accuracy</td><td>▁▁▂▄▄▅▅▅▅▆▆▆▆▆▆▇▇▇▇▇▇▇▇▇▇▇████</td></tr><tr><td>train_loss</td><td>██▇▆▆▅▅▅▄▄▄▄▃▃▃▃▃▃▃▃▃▂▂▂▂▂▁▁▁▁</td></tr><tr><td>val_accuracy</td><td>▂▁▃▅▅▂▅▆▆▅▆▇▆▇▇▇▇▇▇▇▇█▇█▇█████</td></tr></table><br/></div><div class=\"wandb-col\"><h3>Run summary:</h3><br/><table class=\"wandb\"><tr><td>epoch</td><td>30</td></tr><tr><td>train_accuracy</td><td>0.62176</td></tr><tr><td>train_loss</td><td>0.95806</td></tr><tr><td>val_accuracy</td><td>0.62313</td></tr></table><br/></div></div>"
            ]
          },
          "metadata": {}
        },
        {
          "output_type": "display_data",
          "data": {
            "text/plain": [
              "<IPython.core.display.HTML object>"
            ],
            "text/html": [
              " View run <strong style=\"color:#cdcd00\">CNN_model_3_lr_0.001_dropout_0.5</strong> at: <a href='https://wandb.ai/gtoro22-free-university-of-tbilisi-/fer2013/runs/dni92u6g' target=\"_blank\">https://wandb.ai/gtoro22-free-university-of-tbilisi-/fer2013/runs/dni92u6g</a><br> View project at: <a href='https://wandb.ai/gtoro22-free-university-of-tbilisi-/fer2013' target=\"_blank\">https://wandb.ai/gtoro22-free-university-of-tbilisi-/fer2013</a><br>Synced 5 W&B file(s), 30 media file(s), 0 artifact file(s) and 0 other file(s)"
            ]
          },
          "metadata": {}
        },
        {
          "output_type": "display_data",
          "data": {
            "text/plain": [
              "<IPython.core.display.HTML object>"
            ],
            "text/html": [
              "Find logs at: <code>./wandb/run-20250606_111405-dni92u6g/logs</code>"
            ]
          },
          "metadata": {}
        },
        {
          "output_type": "display_data",
          "data": {
            "text/plain": [
              "<IPython.core.display.HTML object>"
            ],
            "text/html": [
              "Tracking run with wandb version 0.19.11"
            ]
          },
          "metadata": {}
        },
        {
          "output_type": "display_data",
          "data": {
            "text/plain": [
              "<IPython.core.display.HTML object>"
            ],
            "text/html": [
              "Run data is saved locally in <code>/content/wandb/run-20250606_113959-yghmqo1c</code>"
            ]
          },
          "metadata": {}
        },
        {
          "output_type": "display_data",
          "data": {
            "text/plain": [
              "<IPython.core.display.HTML object>"
            ],
            "text/html": [
              "Syncing run <strong><a href='https://wandb.ai/gtoro22-free-university-of-tbilisi-/fer2013/runs/yghmqo1c' target=\"_blank\">experiment_summary</a></strong> to <a href='https://wandb.ai/gtoro22-free-university-of-tbilisi-/fer2013' target=\"_blank\">Weights & Biases</a> (<a href='https://wandb.me/developer-guide' target=\"_blank\">docs</a>)<br>"
            ]
          },
          "metadata": {}
        },
        {
          "output_type": "display_data",
          "data": {
            "text/plain": [
              "<IPython.core.display.HTML object>"
            ],
            "text/html": [
              " View project at <a href='https://wandb.ai/gtoro22-free-university-of-tbilisi-/fer2013' target=\"_blank\">https://wandb.ai/gtoro22-free-university-of-tbilisi-/fer2013</a>"
            ]
          },
          "metadata": {}
        },
        {
          "output_type": "display_data",
          "data": {
            "text/plain": [
              "<IPython.core.display.HTML object>"
            ],
            "text/html": [
              " View run at <a href='https://wandb.ai/gtoro22-free-university-of-tbilisi-/fer2013/runs/yghmqo1c' target=\"_blank\">https://wandb.ai/gtoro22-free-university-of-tbilisi-/fer2013/runs/yghmqo1c</a>"
            ]
          },
          "metadata": {}
        },
        {
          "output_type": "display_data",
          "data": {
            "text/plain": [
              "<IPython.core.display.HTML object>"
            ],
            "text/html": []
          },
          "metadata": {}
        },
        {
          "output_type": "display_data",
          "data": {
            "text/plain": [
              "<IPython.core.display.HTML object>"
            ],
            "text/html": [
              " View run <strong style=\"color:#cdcd00\">experiment_summary</strong> at: <a href='https://wandb.ai/gtoro22-free-university-of-tbilisi-/fer2013/runs/yghmqo1c' target=\"_blank\">https://wandb.ai/gtoro22-free-university-of-tbilisi-/fer2013/runs/yghmqo1c</a><br> View project at: <a href='https://wandb.ai/gtoro22-free-university-of-tbilisi-/fer2013' target=\"_blank\">https://wandb.ai/gtoro22-free-university-of-tbilisi-/fer2013</a><br>Synced 5 W&B file(s), 1 media file(s), 2 artifact file(s) and 0 other file(s)"
            ]
          },
          "metadata": {}
        },
        {
          "output_type": "display_data",
          "data": {
            "text/plain": [
              "<IPython.core.display.HTML object>"
            ],
            "text/html": [
              "Find logs at: <code>./wandb/run-20250606_113959-yghmqo1c/logs</code>"
            ]
          },
          "metadata": {}
        }
      ]
    },
    {
      "cell_type": "code",
      "source": [
        "# Generate Kaggle submission with best model\n",
        "# Rationale: Use the model with highest validation accuracy for submission.\n",
        "best_exp = max(results, key=lambda x: x['val_accuracy'])\n",
        "best_model = [exp['model'] for exp in experiments if exp['name'] == best_exp['name']][0]\n",
        "best_model.load_state_dict(torch.load(f'best_model_{best_exp[\"name\"]}.pth'))\n",
        "best_model.eval()\n",
        "device = torch.device(\"cuda\" if torch.cuda.is_available() else \"cpu\")\n",
        "best_model = best_model.to(device)\n",
        "predictions = []\n",
        "with torch.no_grad():\n",
        "    for images in test_loader:\n",
        "        images = images.to(device)\n",
        "        outputs = best_model(images)\n",
        "        preds = outputs.argmax(dim=1)\n",
        "        predictions.extend(preds.cpu().numpy())\n",
        "submission = pd.DataFrame({'Id': range(len(predictions)), 'emotion': predictions})\n",
        "submission.to_csv('submission.csv', index=False)\n",
        "print(\"Submission file generated: submission.csv\")"
      ],
      "metadata": {
        "colab": {
          "base_uri": "https://localhost:8080/"
        },
        "id": "3Bn4h1PUl7C0",
        "outputId": "40697c31-f154-410d-acc7-06819725a51b"
      },
      "execution_count": 45,
      "outputs": [
        {
          "output_type": "stream",
          "name": "stdout",
          "text": [
            "Submission file generated: submission.csv\n"
          ]
        }
      ]
    },
    {
      "cell_type": "code",
      "source": [
        "from google.colab import files\n",
        "files.download('submission.csv')"
      ],
      "metadata": {
        "colab": {
          "base_uri": "https://localhost:8080/",
          "height": 17
        },
        "id": "gtycAqaBFTt6",
        "outputId": "a5e24453-bd0d-475f-edbf-1280cde38d9f"
      },
      "execution_count": 46,
      "outputs": [
        {
          "output_type": "display_data",
          "data": {
            "text/plain": [
              "<IPython.core.display.Javascript object>"
            ],
            "application/javascript": [
              "\n",
              "    async function download(id, filename, size) {\n",
              "      if (!google.colab.kernel.accessAllowed) {\n",
              "        return;\n",
              "      }\n",
              "      const div = document.createElement('div');\n",
              "      const label = document.createElement('label');\n",
              "      label.textContent = `Downloading \"${filename}\": `;\n",
              "      div.appendChild(label);\n",
              "      const progress = document.createElement('progress');\n",
              "      progress.max = size;\n",
              "      div.appendChild(progress);\n",
              "      document.body.appendChild(div);\n",
              "\n",
              "      const buffers = [];\n",
              "      let downloaded = 0;\n",
              "\n",
              "      const channel = await google.colab.kernel.comms.open(id);\n",
              "      // Send a message to notify the kernel that we're ready.\n",
              "      channel.send({})\n",
              "\n",
              "      for await (const message of channel.messages) {\n",
              "        // Send a message to notify the kernel that we're ready.\n",
              "        channel.send({})\n",
              "        if (message.buffers) {\n",
              "          for (const buffer of message.buffers) {\n",
              "            buffers.push(buffer);\n",
              "            downloaded += buffer.byteLength;\n",
              "            progress.value = downloaded;\n",
              "          }\n",
              "        }\n",
              "      }\n",
              "      const blob = new Blob(buffers, {type: 'application/binary'});\n",
              "      const a = document.createElement('a');\n",
              "      a.href = window.URL.createObjectURL(blob);\n",
              "      a.download = filename;\n",
              "      div.appendChild(a);\n",
              "      a.click();\n",
              "      div.remove();\n",
              "    }\n",
              "  "
            ]
          },
          "metadata": {}
        },
        {
          "output_type": "display_data",
          "data": {
            "text/plain": [
              "<IPython.core.display.Javascript object>"
            ],
            "application/javascript": [
              "download(\"download_dceb6bc1-8f3a-41d1-ba4e-409a1466a51c\", \"submission.csv\", 49147)"
            ]
          },
          "metadata": {}
        }
      ]
    }
  ]
}